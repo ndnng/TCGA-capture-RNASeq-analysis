{
 "cells": [
  {
   "cell_type": "code",
   "execution_count": 1,
   "metadata": {},
   "outputs": [],
   "source": [
    "import pandas as pd\n",
    "import matplotlib.pylab as plt\n",
    "%matplotlib inline\n",
    "import numpy as np\n",
    "import os\n",
    "#os.chdir('/Users/ndnguyen20/gtfparse/')\n",
    "from gtfparse import read_gtf\n",
    "#os.chdir('/Users/ndnguyen20/Box/BCM_SMART/')\n",
    "from tqdm import tqdm\n",
    "import time\n",
    "import seaborn as sns\n",
    "import warnings\n",
    "warnings.filterwarnings(\"ignore\")\n",
    "import multiprocessing\n",
    "from functools import partial\n",
    "#import multiprocessing.Pool as pool\n",
    "#multiprocessing.Pool()._processes"
   ]
  },
  {
   "cell_type": "markdown",
   "metadata": {},
   "source": [
    "This script tried to understand the capture coverage of gene transcripts across human genome"
   ]
  },
  {
   "cell_type": "code",
   "execution_count": 2,
   "metadata": {},
   "outputs": [
    {
     "name": "stderr",
     "output_type": "stream",
     "text": [
      "INFO:root:Extracted GTF attributes: ['gene_id', 'gene_type', 'gene_status', 'gene_name', 'level', 'havana_gene', 'transcript_id', 'transcript_type', 'transcript_status', 'transcript_name', 'tag', 'transcript_support_level', 'havana_transcript', 'exon_number', 'exon_id', 'ont', 'protein_id', 'ccdsid']\n"
     ]
    },
    {
     "data": {
      "text/html": [
       "<div>\n",
       "<style scoped>\n",
       "    .dataframe tbody tr th:only-of-type {\n",
       "        vertical-align: middle;\n",
       "    }\n",
       "\n",
       "    .dataframe tbody tr th {\n",
       "        vertical-align: top;\n",
       "    }\n",
       "\n",
       "    .dataframe thead th {\n",
       "        text-align: right;\n",
       "    }\n",
       "</style>\n",
       "<table border=\"1\" class=\"dataframe\">\n",
       "  <thead>\n",
       "    <tr style=\"text-align: right;\">\n",
       "      <th></th>\n",
       "      <th>seqname</th>\n",
       "      <th>source</th>\n",
       "      <th>feature</th>\n",
       "      <th>start</th>\n",
       "      <th>end</th>\n",
       "      <th>score</th>\n",
       "      <th>strand</th>\n",
       "      <th>frame</th>\n",
       "      <th>gene_id</th>\n",
       "      <th>gene_type</th>\n",
       "      <th>...</th>\n",
       "      <th>transcript_status</th>\n",
       "      <th>transcript_name</th>\n",
       "      <th>tag</th>\n",
       "      <th>transcript_support_level</th>\n",
       "      <th>havana_transcript</th>\n",
       "      <th>exon_number</th>\n",
       "      <th>exon_id</th>\n",
       "      <th>ont</th>\n",
       "      <th>protein_id</th>\n",
       "      <th>ccdsid</th>\n",
       "    </tr>\n",
       "  </thead>\n",
       "  <tbody>\n",
       "    <tr>\n",
       "      <th>0</th>\n",
       "      <td>chr1</td>\n",
       "      <td>HAVANA</td>\n",
       "      <td>gene</td>\n",
       "      <td>11869</td>\n",
       "      <td>14409</td>\n",
       "      <td>NaN</td>\n",
       "      <td>+</td>\n",
       "      <td>0</td>\n",
       "      <td>ENSG00000223972.5</td>\n",
       "      <td>transcribed_unprocessed_pseudogene</td>\n",
       "      <td>...</td>\n",
       "      <td></td>\n",
       "      <td></td>\n",
       "      <td></td>\n",
       "      <td></td>\n",
       "      <td></td>\n",
       "      <td></td>\n",
       "      <td></td>\n",
       "      <td></td>\n",
       "      <td></td>\n",
       "      <td></td>\n",
       "    </tr>\n",
       "    <tr>\n",
       "      <th>1</th>\n",
       "      <td>chr1</td>\n",
       "      <td>HAVANA</td>\n",
       "      <td>transcript</td>\n",
       "      <td>11869</td>\n",
       "      <td>14409</td>\n",
       "      <td>NaN</td>\n",
       "      <td>+</td>\n",
       "      <td>0</td>\n",
       "      <td>ENSG00000223972.5</td>\n",
       "      <td>transcribed_unprocessed_pseudogene</td>\n",
       "      <td>...</td>\n",
       "      <td>KNOWN</td>\n",
       "      <td>DDX11L1-002</td>\n",
       "      <td>basic</td>\n",
       "      <td>1</td>\n",
       "      <td>OTTHUMT00000362751.1</td>\n",
       "      <td></td>\n",
       "      <td></td>\n",
       "      <td></td>\n",
       "      <td></td>\n",
       "      <td></td>\n",
       "    </tr>\n",
       "    <tr>\n",
       "      <th>2</th>\n",
       "      <td>chr1</td>\n",
       "      <td>HAVANA</td>\n",
       "      <td>exon</td>\n",
       "      <td>11869</td>\n",
       "      <td>12227</td>\n",
       "      <td>NaN</td>\n",
       "      <td>+</td>\n",
       "      <td>0</td>\n",
       "      <td>ENSG00000223972.5</td>\n",
       "      <td>transcribed_unprocessed_pseudogene</td>\n",
       "      <td>...</td>\n",
       "      <td>KNOWN</td>\n",
       "      <td>DDX11L1-002</td>\n",
       "      <td>basic</td>\n",
       "      <td>1</td>\n",
       "      <td>OTTHUMT00000362751.1</td>\n",
       "      <td>1</td>\n",
       "      <td>ENSE00002234944.1</td>\n",
       "      <td></td>\n",
       "      <td></td>\n",
       "      <td></td>\n",
       "    </tr>\n",
       "    <tr>\n",
       "      <th>3</th>\n",
       "      <td>chr1</td>\n",
       "      <td>HAVANA</td>\n",
       "      <td>exon</td>\n",
       "      <td>12613</td>\n",
       "      <td>12721</td>\n",
       "      <td>NaN</td>\n",
       "      <td>+</td>\n",
       "      <td>0</td>\n",
       "      <td>ENSG00000223972.5</td>\n",
       "      <td>transcribed_unprocessed_pseudogene</td>\n",
       "      <td>...</td>\n",
       "      <td>KNOWN</td>\n",
       "      <td>DDX11L1-002</td>\n",
       "      <td>basic</td>\n",
       "      <td>1</td>\n",
       "      <td>OTTHUMT00000362751.1</td>\n",
       "      <td>2</td>\n",
       "      <td>ENSE00003582793.1</td>\n",
       "      <td></td>\n",
       "      <td></td>\n",
       "      <td></td>\n",
       "    </tr>\n",
       "    <tr>\n",
       "      <th>4</th>\n",
       "      <td>chr1</td>\n",
       "      <td>HAVANA</td>\n",
       "      <td>exon</td>\n",
       "      <td>13221</td>\n",
       "      <td>14409</td>\n",
       "      <td>NaN</td>\n",
       "      <td>+</td>\n",
       "      <td>0</td>\n",
       "      <td>ENSG00000223972.5</td>\n",
       "      <td>transcribed_unprocessed_pseudogene</td>\n",
       "      <td>...</td>\n",
       "      <td>KNOWN</td>\n",
       "      <td>DDX11L1-002</td>\n",
       "      <td>basic</td>\n",
       "      <td>1</td>\n",
       "      <td>OTTHUMT00000362751.1</td>\n",
       "      <td>3</td>\n",
       "      <td>ENSE00002312635.1</td>\n",
       "      <td></td>\n",
       "      <td></td>\n",
       "      <td></td>\n",
       "    </tr>\n",
       "  </tbody>\n",
       "</table>\n",
       "<p>5 rows × 26 columns</p>\n",
       "</div>"
      ],
      "text/plain": [
       "  seqname  source     feature  start    end  score strand frame  \\\n",
       "0    chr1  HAVANA        gene  11869  14409    NaN      +     0   \n",
       "1    chr1  HAVANA  transcript  11869  14409    NaN      +     0   \n",
       "2    chr1  HAVANA        exon  11869  12227    NaN      +     0   \n",
       "3    chr1  HAVANA        exon  12613  12721    NaN      +     0   \n",
       "4    chr1  HAVANA        exon  13221  14409    NaN      +     0   \n",
       "\n",
       "             gene_id                           gene_type  ...  \\\n",
       "0  ENSG00000223972.5  transcribed_unprocessed_pseudogene  ...   \n",
       "1  ENSG00000223972.5  transcribed_unprocessed_pseudogene  ...   \n",
       "2  ENSG00000223972.5  transcribed_unprocessed_pseudogene  ...   \n",
       "3  ENSG00000223972.5  transcribed_unprocessed_pseudogene  ...   \n",
       "4  ENSG00000223972.5  transcribed_unprocessed_pseudogene  ...   \n",
       "\n",
       "  transcript_status transcript_name    tag transcript_support_level  \\\n",
       "0                                                                     \n",
       "1             KNOWN     DDX11L1-002  basic                        1   \n",
       "2             KNOWN     DDX11L1-002  basic                        1   \n",
       "3             KNOWN     DDX11L1-002  basic                        1   \n",
       "4             KNOWN     DDX11L1-002  basic                        1   \n",
       "\n",
       "      havana_transcript exon_number            exon_id ont protein_id ccdsid  \n",
       "0                                                                             \n",
       "1  OTTHUMT00000362751.1                                                       \n",
       "2  OTTHUMT00000362751.1           1  ENSE00002234944.1                        \n",
       "3  OTTHUMT00000362751.1           2  ENSE00003582793.1                        \n",
       "4  OTTHUMT00000362751.1           3  ENSE00002312635.1                        \n",
       "\n",
       "[5 rows x 26 columns]"
      ]
     },
     "execution_count": 2,
     "metadata": {},
     "output_type": "execute_result"
    }
   ],
   "source": [
    "#export data from TCGA gencode v22\n",
    "gencode_data = read_gtf('gencode.v22.annotation.gtf')\n",
    "gencode_data.head()"
   ]
  },
  {
   "cell_type": "code",
   "execution_count": 3,
   "metadata": {},
   "outputs": [],
   "source": [
    "#just arrange chromosomes in order\n",
    "chr_names = np.array(['chr1', 'chr2', 'chr3', 'chr4', 'chr5', 'chr6', 'chr7', 'chr8',\\\n",
    "       'chr9', 'chr10', 'chr11', 'chr12', 'chr13', 'chr14', 'chr15',\\\n",
    "       'chr16', 'chr17', 'chr18', 'chr19', 'chr20', 'chr21', 'chr22',\\\n",
    "       'chrX', 'chrY', 'chrM'])"
   ]
  },
  {
   "cell_type": "code",
   "execution_count": 4,
   "metadata": {},
   "outputs": [],
   "source": [
    "#copy and modify from GENCODE_CAPTURE_mismatches\n",
    "\n",
    "class GENCODE():\n",
    "    def __init__(self, chr_name):\n",
    "        self.chr_name = gencode_data[gencode_data.seqname==chr_name]\n",
    "\n",
    "GENCODE_dict_chr={}\n",
    "for chr_name in chr_names:\n",
    "    chr_data = GENCODE(chr_name).chr_name\n",
    "    chr_data.reset_index(drop= True, inplace = True)\n",
    "    GENCODE_dict_chr[chr_name] = chr_data"
   ]
  },
  {
   "cell_type": "code",
   "execution_count": 5,
   "metadata": {},
   "outputs": [],
   "source": [
    "GENCODE_genes = {}\n",
    "GENCODE_exons = {}\n",
    "for name in chr_names:\n",
    "    GENCODE_genes[name] = GENCODE_dict_chr[name][GENCODE_dict_chr[name].feature=='gene']\n",
    "    GENCODE_genes[name].sort_values(by = ['start'], axis = 0, inplace= True)\n",
    "    GENCODE_genes[name].reset_index(drop=True, inplace=True)\n",
    "    \n",
    "    GENCODE_exons[name] = GENCODE_dict_chr[name][GENCODE_dict_chr[name].feature=='exon']\n",
    "    GENCODE_exons[name].sort_values(by = ['start'], axis = 0, inplace= True)\n",
    "    GENCODE_exons[name].reset_index(drop=True, inplace=True)"
   ]
  },
  {
   "cell_type": "code",
   "execution_count": 6,
   "metadata": {},
   "outputs": [],
   "source": [
    "def identify_protein_coding_gene(gene_data):\n",
    "    \"\"\"return protein coding genes in gencode\"\"\"\n",
    "    gene_data = pd.DataFrame.copy(gene_data)\n",
    "    protein_coding_genes = gene_data[gene_data.gene_type=='protein_coding']\n",
    "    protein_coding_genes.sort_values(by = ['start'], axis = 0, inplace= True)\n",
    "    protein_coding_genes.reset_index(drop= True, inplace = True)\n",
    "    return protein_coding_genes\n",
    "\n",
    "def identify_protein_coding_exon(exon_data):\n",
    "    \"\"\"return exon data\"\"\"\n",
    "    exon_data = pd.DataFrame.copy(exon_data)\n",
    "    protein_coding_exons = exon_data[exon_data.gene_type=='protein_coding']\n",
    "    protein_coding_exons.sort_values(by = ['start'], axis = 0, inplace= True)\n",
    "    protein_coding_exons.reset_index(drop= True, inplace = True)\n",
    "    return protein_coding_exons"
   ]
  },
  {
   "cell_type": "code",
   "execution_count": 7,
   "metadata": {},
   "outputs": [],
   "source": [
    "GENCODE_protein_coding_genes ={}\n",
    "GENCODE_protein_coding_exons ={}\n",
    "#name = 'chr1'\n",
    "for name in chr_names:\n",
    "    GENCODE_protein_coding_genes[name] = identify_protein_coding_gene(GENCODE_genes[name])\n",
    "    GENCODE_protein_coding_exons[name] = identify_protein_coding_exon(GENCODE_exons[name])\n",
    "#making subclasses of genes\n"
   ]
  },
  {
   "cell_type": "code",
   "execution_count": 8,
   "metadata": {},
   "outputs": [],
   "source": [
    "#Use the liftover CAPTURE_hg38 to have the same reference with the GENCODE's\n",
    "capture_data = pd.read_csv('CAPTURE_hg38_no_collapse.txt', header=None, sep =\"\\t\", skiprows=0)\n",
    "class CAPTURE():\n",
    "    def __init__(self, chr_name):\n",
    "        self.chr_name = capture_data[capture_data[0]==chr_name]\n",
    "CAPTURE_dict_chr={}\n",
    "for chr_name in chr_names:\n",
    "    chr_data = CAPTURE(chr_name).chr_name\n",
    "    chr_data.sort_values(chr_data.columns[1], axis = 0, inplace= True)\n",
    "    chr_data.reset_index(drop= True, inplace = True)\n",
    "    CAPTURE_dict_chr[chr_name] = chr_data"
   ]
  },
  {
   "cell_type": "code",
   "execution_count": 9,
   "metadata": {},
   "outputs": [],
   "source": [
    "# in CAPTURE, We later found that some exons lifted over from hg19 to hg38 became alternative haplotypes of a single exon.\n",
    "def detect_collapse_hg38_exons(CAPTURE_chr_data):\n",
    "    #INPUT ORDERED FILES\n",
    "    CAPTURE_chr_data = pd.DataFrame.copy(CAPTURE_chr_data)\n",
    "    for i in np.array(CAPTURE_chr_data.index[1:]):\n",
    "        if CAPTURE_chr_data.loc[i][1] <= CAPTURE_chr_data.loc[i-1][2]:\n",
    "            CAPTURE_chr_data.loc[i][1] = np.min([CAPTURE_chr_data.loc[i-1][1], CAPTURE_chr_data.loc[i][1]])\n",
    "            CAPTURE_chr_data.loc[i][2] = np.max([CAPTURE_chr_data.loc[i-1][2], CAPTURE_chr_data.loc[i][2]])\n",
    "            CAPTURE_chr_data.drop(index = i-1, inplace= True)\n",
    "    CAPTURE_chr_data.reset_index(drop= True, inplace= True)\n",
    "    return CAPTURE_chr_data"
   ]
  },
  {
   "cell_type": "code",
   "execution_count": 10,
   "metadata": {},
   "outputs": [],
   "source": [
    "temp_capture = pd.DataFrame(columns=[0,1,2])\n",
    "for name in chr_names:\n",
    "    CAPTURE_dict_chr[name] = detect_collapse_hg38_exons(CAPTURE_dict_chr[name])\n",
    "    temp_capture = pd.concat([temp_capture,CAPTURE_dict_chr[name]])\n",
    "capture_data = pd.DataFrame.copy(temp_capture)\n",
    "capture_data.reset_index(drop= True, inplace= True)"
   ]
  },
  {
   "cell_type": "code",
   "execution_count": 11,
   "metadata": {},
   "outputs": [],
   "source": [
    "#capture_data.to_csv(path_or_buf='CAPTURE_hg38_no_collapse.txt', index =None, sep='\\t', header= None)"
   ]
  },
  {
   "cell_type": "code",
   "execution_count": 12,
   "metadata": {},
   "outputs": [],
   "source": [
    "def detect_GENCODE_genes_overlap_w_CAPTURE(coding_genes,merged_exons):\n",
    "    #merged exons are 2-d list of capture exons in a chromosome\n",
    "    overlap_check = []\n",
    "    for gene in coding_genes:\n",
    "        #i = 0\n",
    "        closest_exon_vals = np.argwhere(merged_exons[:,0]-gene[0]<0)\n",
    "        if closest_exon_vals.size > 0:\n",
    "            exon_start_index = np.max(closest_exon_vals)\n",
    "        else:\n",
    "            exon_start_index = np.argmin(merged_exons[:,0]-gene[0])\n",
    "            \n",
    "        i = exon_start_index #good because exons non overlapping\n",
    "        while (i<len(merged_exons)) and ((min(gene[1],merged_exons[i][1])-max(gene[0],merged_exons[i][0]))<0):\n",
    "            i+=1\n",
    "        if (i<len(merged_exons)) and ((min(gene[1],merged_exons[i][1])-max(gene[0],merged_exons[i][0]))>0):\n",
    "            overlap_check.append(1)\n",
    "        else:\n",
    "            overlap_check.append(np.nan)\n",
    "    return overlap_check\n",
    "\n",
    "def detect_CAPTURE_exons_overlap_w_GENCODE(exons, merged_exons_per_chr):\n",
    "    overlap_check = []\n",
    "    for exon_i in range(len(exons)):\n",
    "        #i = 0\n",
    "        closest_exon_vals = np.argwhere((merged_exons_per_chr[:,0]-exons[exon_i][1]<0) | (merged_exons_per_chr[:,1]-exons[exon_i][1]<0))\n",
    "        if closest_exon_vals.size > 0:\n",
    "            #print(closest_gene_vals.size)\n",
    "            exon_start_index = np.max(closest_exon_vals)\n",
    "            \n",
    "        else:\n",
    "            exon_start_index = 0\n",
    "        \n",
    "            \n",
    "            #exon_start_index = np.argmin(merged_exons_per_chr[:,0]-exons[exon_i][0])\n",
    "          #  print(gene_start_index)\n",
    "            \n",
    "        i = exon_start_index\n",
    "            #i = 0 #because exons on GENCODE can be overlapping\n",
    "        while (i<len(merged_exons_per_chr)) and ((min(exons[exon_i][1], merged_exons_per_chr[i][1])-max(exons[exon_i][0], merged_exons_per_chr[i][0]))<0):\n",
    "            i+=1\n",
    "        #print((0,i))\n",
    "        #print(i==len(merged_genes_per_chr))\n",
    "        if (i<len(merged_exons_per_chr)) and ((min(exons[exon_i][1], merged_exons_per_chr[i][1])-max(exons[exon_i][0], merged_exons_per_chr[i][0]))>0):\n",
    "            overlap_check.append(1)\n",
    "        else:\n",
    "            overlap_check.append(np.nan)\n",
    "        #else:\n",
    "            #overlap_check.append(np.nan)\n",
    "    return overlap_check\n",
    "    "
   ]
  },
  {
   "cell_type": "markdown",
   "metadata": {},
   "source": [
    "At this step, try to find how many percent of GENCODE's protein-coding genes mapped to CAPTURE's"
   ]
  },
  {
   "cell_type": "code",
   "execution_count": 13,
   "metadata": {},
   "outputs": [],
   "source": [
    "GENCODE_gene_ovl_CAPTURE = {}\n",
    "percent_overlap = []\n",
    "num_overlap_genes = 0\n",
    "#name='chr1'\n",
    "for name in chr_names:\n",
    "    GENCODE_gene_ovl_CAPTURE[name] = GENCODE_protein_coding_genes[name]\n",
    "    CAPTURE_p_exons = np.array(CAPTURE_dict_chr[name][[1,2]])\n",
    "    GENCODE_gene_list = np.array([GENCODE_protein_coding_genes[name].start,GENCODE_protein_coding_genes[name].end]).T\n",
    "    match_GvsC = detect_GENCODE_genes_overlap_w_CAPTURE(GENCODE_gene_list,CAPTURE_p_exons)\n",
    "    GENCODE_gene_ovl_CAPTURE[name]['ovl?']=match_GvsC\n",
    "    percent = np.nansum(match_GvsC)/GENCODE_gene_list.shape[0]\n",
    "    num_overlap_genes += np.nansum(match_GvsC)\n",
    "    percent_overlap.append(percent)\n",
    "\n",
    "    "
   ]
  },
  {
   "cell_type": "code",
   "execution_count": 14,
   "metadata": {},
   "outputs": [
    {
     "data": {
      "text/plain": [
       "[0.9814724524622136,\n",
       " 0.9855189058728882,\n",
       " 0.9925093632958801,\n",
       " 0.9892761394101877,\n",
       " 0.9896432681242808,\n",
       " 0.9961464354527938,\n",
       " 0.9866071428571429,\n",
       " 0.9940209267563528,\n",
       " 0.9908854166666666,\n",
       " 0.990450204638472,\n",
       " 0.9945652173913043,\n",
       " 0.9980582524271845,\n",
       " 0.9875389408099688,\n",
       " 0.9870550161812298,\n",
       " 0.9814502529510961,\n",
       " 0.9894982497082847,\n",
       " 0.9865092748735245,\n",
       " 0.992619926199262,\n",
       " 0.9945167923235092,\n",
       " 0.9962962962962963,\n",
       " 0.9353448275862069,\n",
       " 0.9908883826879271,\n",
       " 0.9914004914004914,\n",
       " 0.8888888888888888,\n",
       " 1.0]"
      ]
     },
     "execution_count": 14,
     "metadata": {},
     "output_type": "execute_result"
    }
   ],
   "source": [
    "percent_overlap"
   ]
  },
  {
   "cell_type": "code",
   "execution_count": 15,
   "metadata": {},
   "outputs": [
    {
     "data": {
      "text/plain": [
       "0.9889976784092056"
      ]
     },
     "execution_count": 15,
     "metadata": {},
     "output_type": "execute_result"
    }
   ],
   "source": [
    "total_genes = np.sum([GENCODE_protein_coding_genes[name].shape[0] for name in chr_names])\n",
    "num_overlap_genes/total_genes"
   ]
  },
  {
   "cell_type": "code",
   "execution_count": 16,
   "metadata": {},
   "outputs": [
    {
     "data": {
      "text/plain": [
       "19596.0"
      ]
     },
     "execution_count": 16,
     "metadata": {},
     "output_type": "execute_result"
    }
   ],
   "source": [
    "num_overlap_genes"
   ]
  },
  {
   "cell_type": "markdown",
   "metadata": {},
   "source": [
    "This step, try to find how many percent of CAPTURE's exons mapped to GENCODE's"
   ]
  },
  {
   "cell_type": "code",
   "execution_count": 17,
   "metadata": {},
   "outputs": [
    {
     "name": "stdout",
     "output_type": "stream",
     "text": [
      "0.9659971975712284\n",
      "0.9629334640362701\n",
      "0.9740166865315852\n",
      "0.9643028846153846\n",
      "0.9621897965704548\n",
      "0.9572247814233337\n",
      "0.9336803547329863\n",
      "0.9421599029257112\n",
      "0.9522188307114346\n",
      "0.9489726027397261\n",
      "0.9597404757943769\n",
      "0.9615510471204188\n",
      "0.9532835024025628\n",
      "0.9045119182746879\n",
      "0.9314516129032258\n",
      "0.9429526582551494\n",
      "0.9548841398509784\n",
      "0.9625502940266172\n",
      "0.9634330867518494\n",
      "0.9629415170816444\n",
      "0.9376130198915009\n",
      "0.9252196271694879\n",
      "0.9493635860542335\n",
      "0.8518518518518519\n",
      "1.0\n"
     ]
    }
   ],
   "source": [
    "CAPTURE_exons_ovl_GENCODE = {}\n",
    "percent_exons_overlap = []\n",
    "num_overlap_exons = 0\n",
    "#name = 'chr13'\n",
    "for name in chr_names:\n",
    "    CAPTURE_exons_ovl_GENCODE[name] = CAPTURE_dict_chr[name]\n",
    "    GENCODE_p_exons = np.array([GENCODE_protein_coding_exons[name].start, GENCODE_protein_coding_exons[name].end]).T\n",
    "    CAPTURE_p_exons = np.array(CAPTURE_dict_chr[name][[1,2]])\n",
    "    match_CvsG = detect_CAPTURE_exons_overlap_w_GENCODE(CAPTURE_p_exons, GENCODE_p_exons)\n",
    "    CAPTURE_exons_ovl_GENCODE[name]['ovl?'] = match_CvsG\n",
    "    percent = np.nansum(match_CvsG)/CAPTURE_p_exons.shape[0]\n",
    "    print(percent)\n",
    "    num_overlap_exons += np.nansum(match_CvsG)\n",
    "    percent_exons_overlap.append(percent)\n",
    "    \n",
    "    \n",
    "    "
   ]
  },
  {
   "cell_type": "code",
   "execution_count": 18,
   "metadata": {},
   "outputs": [
    {
     "data": {
      "text/plain": [
       "0.9537495018636161"
      ]
     },
     "execution_count": 18,
     "metadata": {},
     "output_type": "execute_result"
    }
   ],
   "source": [
    "total_exons = capture_data.shape[0]\n",
    "num_overlap_exons/total_exons"
   ]
  },
  {
   "cell_type": "markdown",
   "metadata": {},
   "source": [
    "#### total_exons"
   ]
  },
  {
   "cell_type": "code",
   "execution_count": 19,
   "metadata": {},
   "outputs": [
    {
     "data": {
      "text/plain": [
       "203430.0"
      ]
     },
     "execution_count": 19,
     "metadata": {},
     "output_type": "execute_result"
    }
   ],
   "source": [
    "num_overlap_exons"
   ]
  },
  {
   "cell_type": "code",
   "execution_count": 20,
   "metadata": {},
   "outputs": [
    {
     "data": {
      "text/plain": [
       "(213295, 3)"
      ]
     },
     "execution_count": 20,
     "metadata": {},
     "output_type": "execute_result"
    }
   ],
   "source": [
    "capture_data.shape"
   ]
  },
  {
   "cell_type": "code",
   "execution_count": 21,
   "metadata": {},
   "outputs": [],
   "source": [
    "CAPTURE_exon_non_ovl_GENCODE={}\n",
    "for name in chr_names:\n",
    "    CAPTURE_exon_non_ovl_GENCODE[name] =CAPTURE_exons_ovl_GENCODE[name][CAPTURE_exons_ovl_GENCODE[name]['ovl?']!=1]\n",
    "compile_CAPTURE_exon_non_ovl_GENCODE = pd.concat(CAPTURE_exon_non_ovl_GENCODE.values(), ignore_index=True)\n",
    "compile_CAPTURE_exon_non_ovl_GENCODE.to_csv(path_or_buf='CAPTURE_exons_non_ovl_GENCODE.txt', index=None, sep='\\t', mode='a')"
   ]
  },
  {
   "cell_type": "code",
   "execution_count": 22,
   "metadata": {},
   "outputs": [
    {
     "data": {
      "text/plain": [
       "0.046250498136383884"
      ]
     },
     "execution_count": 22,
     "metadata": {},
     "output_type": "execute_result"
    }
   ],
   "source": [
    "compile_CAPTURE_exon_non_ovl_GENCODE.shape[0]/total_exons"
   ]
  },
  {
   "cell_type": "markdown",
   "metadata": {},
   "source": [
    "Try to find how many GENCODE's protein-coding exons on the CAPTURE list"
   ]
  },
  {
   "cell_type": "code",
   "execution_count": 24,
   "metadata": {},
   "outputs": [],
   "source": [
    "#Copy and modify from GENCODE_CAPTURE_matching.ipynb\n",
    "def percent_difference(reference, range_ovl):\n",
    "    rd = (min(reference[1], range_ovl[1])-max(reference[0], range_ovl[0])+1)/(reference[1]-reference[0]+1)\n",
    "    return rd\n",
    "def range_difference(range1, range2):\n",
    "    \"\"\"find overlap regions\"\"\"\n",
    "    rd = min(range1[1], range2[1])-max(range1[0], range2[0])+1\n",
    "    return rd\n",
    "def search_overlap_partners(chr_ref, chr_search):\n",
    "    \"\"\"searching every exon overlapping from one dataset to another\"\"\"\n",
    "    p_ref_matches = []\n",
    "    p_search_matches = []\n",
    "    ref_indexes = []\n",
    "    search_indexes = []\n",
    "    count = 0\n",
    "    percents_ovl = [] \n",
    "\n",
    "    for i in range(len(chr_search)):\n",
    "        \n",
    "        p_search = chr_search[i]\n",
    "        closest_ref_val = np.argwhere(chr_ref[:,0]-p_search[0]<0)\n",
    "        if closest_ref_val.size > 0:\n",
    "            ref_i = np.max(closest_ref_val) #lower start of ref closest to start of search \n",
    "            p_ref = chr_ref[ref_i]\n",
    "        else:\n",
    "            ref_i = 0 #just to make sure\n",
    "            p_ref = chr_ref[ref_i]\n",
    "            #not to let the ref pass over:\n",
    "        while ((max(p_ref[0], p_search[0])-min(p_ref[1], p_search[1]))>0) and (p_ref[0]<p_search[0]) and (ref_i < len(chr_ref)):\n",
    "\n",
    "\n",
    "            ref_i +=1\n",
    "            if ref_i <len(chr_ref):\n",
    "                p_ref = chr_ref[ref_i]\n",
    "                #else\n",
    "        else:\n",
    "            if ((min(p_ref[1], p_search[1])-max(p_ref[0], p_search[0]))>0):\n",
    "\n",
    "                percents_ovl.append(percent_difference(p_search, p_ref)) #percent of search being overlapped\n",
    "                search_indexes.append(i)\n",
    "\n",
    "    return search_indexes, percents_ovl #only good for p_chr_search because chr_search is only called once"
   ]
  },
  {
   "cell_type": "code",
   "execution_count": 25,
   "metadata": {},
   "outputs": [],
   "source": [
    "percents_Gexon_on_CAPTURE = []\n",
    "num_Gexons_counted = 0\n",
    "GENCODE_exons_on_CAPTURE ={}\n",
    "GENCODE_exons_out_CAPTURE = {}\n",
    "\n",
    "for name in chr_names:\n",
    "    list_GENCODE = np.array([GENCODE_protein_coding_exons[name].start,GENCODE_protein_coding_exons[name].end]).T\n",
    "    list_CAPTURE = np.array(CAPTURE_dict_chr[name][[1,2]]) \n",
    "    GENCODEwCAPTURE_ex_indexes, percents_ovl= search_overlap_partners(list_CAPTURE, list_GENCODE)\n",
    "    percents_Gexon_on_CAPTURE.append(len(GENCODEwCAPTURE_ex_indexes)/len(list_GENCODE))\n",
    "    GENCODE_exons_on_CAPTURE[name] = GENCODE_protein_coding_exons[name].loc[GENCODEwCAPTURE_ex_indexes]\n",
    "    GENCODEoutCAPTURE_ex_indexes = list(set([*range(len(list_GENCODE))])-set(GENCODEwCAPTURE_ex_indexes))\n",
    "    GENCODE_exons_out_CAPTURE[name]=GENCODE_protein_coding_exons[name].loc[GENCODEoutCAPTURE_ex_indexes]\n",
    "    GENCODE_exons_out_CAPTURE[name].sort_values(by = GENCODE_exons_out_CAPTURE[name].columns[3], axis = 0, inplace= True)\n",
    "    GENCODE_exons_out_CAPTURE[name].reset_index(drop= True, inplace = True)\n",
    "    num_Gexons_counted+=len(GENCODEwCAPTURE_ex_indexes)\n",
    "\n",
    "    \n",
    "    "
   ]
  },
  {
   "cell_type": "code",
   "execution_count": 28,
   "metadata": {},
   "outputs": [
    {
     "data": {
      "text/plain": [
       "0.9130223779476406"
      ]
     },
     "execution_count": 28,
     "metadata": {},
     "output_type": "execute_result"
    }
   ],
   "source": [
    "num_Gexons_counted/np.sum([GENCODE_protein_coding_exons[name].shape[0] for name in chr_names])"
   ]
  },
  {
   "cell_type": "code",
   "execution_count": 29,
   "metadata": {},
   "outputs": [],
   "source": [
    "full_GENCODE_ovl_exons = pd.concat(GENCODE_exons_on_CAPTURE.values(), ignore_index=True)\n",
    "full_GENCODE_non_ovl_exons = pd.concat(GENCODE_exons_out_CAPTURE.values(), ignore_index = True)"
   ]
  },
  {
   "cell_type": "code",
   "execution_count": 30,
   "metadata": {},
   "outputs": [],
   "source": [
    "full_GENCODE_ovl_exons.to_csv(path_or_buf='GENCODE_pr-coding_exons_ovl_CAPTURE.txt', index=None, sep=' ')\n",
    "full_GENCODE_non_ovl_exons.to_csv(path_or_buf='GENCODE_pr-coding_exons_non_ovl_CAPTURE.txt', index=None, sep=' ')"
   ]
  },
  {
   "cell_type": "markdown",
   "metadata": {},
   "source": [
    "Coding lengths of GENCODE's transcripts"
   ]
  },
  {
   "cell_type": "code",
   "execution_count": 31,
   "metadata": {},
   "outputs": [],
   "source": [
    "gencode_transcript= gencode_data[(gencode_data.feature=='transcript') | (gencode_data.feature == 'exon')] #with exons"
   ]
  },
  {
   "cell_type": "code",
   "execution_count": 32,
   "metadata": {},
   "outputs": [],
   "source": [
    "gencode_protein_coding_transcript = gencode_transcript[gencode_transcript.gene_type=='protein_coding']\n",
    "gencode_protein_coding_transcript.sort_index(inplace=True)\n",
    "gencode_protein_coding_transcript.reset_index(drop=True, inplace=True)"
   ]
  },
  {
   "cell_type": "code",
   "execution_count": 33,
   "metadata": {},
   "outputs": [],
   "source": [
    "def transcript_length_cal(transcript_data):\n",
    "    #INPUT ORDERED file\n",
    "    #transcript data include transcripts and exons\n",
    "    trans_only_data = transcript_data[transcript_data.feature=='transcript']\n",
    "    trans_only_indexes = np.array(trans_only_data.index)\n",
    "    list_lengths = np.array(transcript_data.end - transcript_data.start)+1\n",
    "    trans_lengths = np.empty([trans_only_data.shape[0],])\n",
    "    nums_exons_per_trans = np.empty([trans_only_data.shape[0],])\n",
    "    for i in range(len(trans_only_indexes)-1):\n",
    "        trans_length = np.sum(list_lengths[trans_only_indexes[i]+1:trans_only_indexes[i+1]])\n",
    "        trans_lengths[i] = trans_length\n",
    "        nums_exons_per_trans[i] = trans_only_indexes[i+1]-trans_only_indexes[i]-1\n",
    "    \n",
    "    #final transcript:\n",
    "    trans_lengths[-1]= np.sum(list_lengths[trans_only_indexes[len(trans_lengths)-1]:-1])\n",
    "    print(len(trans_lengths))\n",
    "    nums_exons_per_trans[-1] = transcript_data.shape[0]-trans_only_indexes[len(trans_lengths)-1] -1\n",
    "    trans_only_data['length'] = trans_lengths\n",
    "    return trans_only_data, nums_exons_per_trans\n",
    "\n",
    "def df_edit_col_by_label(df,label, lable_col_name, col_name, val_2_col):\n",
    "\n",
    "    df_w_label = df[df[lable_col_name]==label]\n",
    "    save_index = np.array(df_w_label.index)\n",
    "    df.loc[save_index,col_name] = val_2_col\n",
    "    return df\n",
    "    \n",
    "def percent_transcript_covered_CAPTURE(chr_names, CAPTURE_dict, transcript_data):\n",
    "    #need to group CAPTURE dict into chromosome categories\n",
    "    trans_only_data, no_use = transcript_length_cal(transcript_data)\n",
    "    trans_only_indexes = np.array(trans_only_data.index)\n",
    "    #keep index no reset\n",
    "    trans_ovl_lengths = np.empty([trans_only_data.shape[0],])\n",
    "    exons_only_data = transcript_data[transcript_data.feature=='exon']\n",
    "    reset_index_groups = []\n",
    "    exon_length_groups = []\n",
    "    for name in chr_names: \n",
    "        exon_ovl_indexes, exon_ovl_percents = search_overlap_partners\\\n",
    "        (np.array(CAPTURE_dict[name][[1,2]]), \\\n",
    "        np.array(exons_only_data[exons_only_data.seqname==name][['start', 'end']]))\n",
    "        #because the func return ordered indexes\n",
    "        reset_exon_ovl_indexes = np.array(exons_only_data[exons_only_data.seqname==name].index)[exon_ovl_indexes]\n",
    "        reset_index_groups.append(reset_exon_ovl_indexes)\n",
    "        \n",
    "        exons_only_ovl_data = exons_only_data[exons_only_data.seqname==name].loc[reset_exon_ovl_indexes]\n",
    "        #because percents over the exon length\n",
    "        exon_ovl_lengths = np.array(exon_ovl_percents)*np.array(exons_only_ovl_data.end-exons_only_ovl_data.start+1)\n",
    "        exon_length_groups.append(exon_ovl_lengths)\n",
    "        \n",
    "        #MAKE GROUPS OF RESET INDEXES AND GROUPS OF EXON_OVL_LENGTHS\n",
    "        exons_only_data['ovl_length'] = np.zeros([exons_only_data.shape[0],])\n",
    "    for i in range(len(reset_index_groups)):\n",
    "        name = chr_names[i]\n",
    "        exons_only_data[exons_only_data.seqname==name] = \\\n",
    "        exons_only_data[exons_only_data.seqname==name].loc[reset_index_groups[i]] #after this, NaN at other loc\n",
    "        exons_only_data[exons_only_data.seqname==name].dropna(how='all', inplace=True)\n",
    "        exons_only_data = df_edit_col_by_label(exons_only_data, name, 'seqname','ovl_length',exon_length_groups[i])\n",
    "        #exons_only_data[exons_only_data.seqname==name]['ovl_length'] = exon_length_groups[i]\n",
    "        \n",
    "        \n",
    "    for i in range(len(trans_only_data)-1):\n",
    "        #index_range = [exon_indexes]\n",
    "        trans_ovl_length = np.sum(exons_only_data['ovl_length'] \\\n",
    "                                  .loc[(exons_only_data.index>trans_only_indexes[i]) & \\\n",
    "                                       (exons_only_data.index<trans_only_indexes[i+1])])\n",
    "        trans_ovl_lengths[i] = trans_ovl_length\n",
    "    \n",
    "    trans_ovl_lengths[-1] = np.sum(exons_only_data['ovl_length'] \\\n",
    "                                  .loc[(exons_only_data.index>trans_only_indexes[-1])])\n",
    "    trans_only_data['%_exon_ovl'] = trans_ovl_lengths/trans_only_data.length\n",
    "    return trans_only_data\n",
    "                            \n",
    "    "
   ]
  },
  {
   "cell_type": "code",
   "execution_count": 43,
   "metadata": {},
   "outputs": [
    {
     "name": "stdout",
     "output_type": "stream",
     "text": [
      "143615\n"
     ]
    }
   ],
   "source": [
    "transcript_ovl_result = \\\n",
    "percent_transcript_covered_CAPTURE(chr_names, CAPTURE_dict_chr, gencode_protein_coding_transcript)"
   ]
  },
  {
   "cell_type": "markdown",
   "metadata": {},
   "source": [
    "Calculate transcripts/gene; exons/transcript"
   ]
  },
  {
   "cell_type": "code",
   "execution_count": 45,
   "metadata": {},
   "outputs": [
    {
     "name": "stdout",
     "output_type": "stream",
     "text": [
      "143615\n"
     ]
    }
   ],
   "source": [
    "trans_only_data, nums_exons_per_trans = transcript_length_cal(gencode_protein_coding_transcript)"
   ]
  },
  {
   "cell_type": "code",
   "execution_count": 46,
   "metadata": {},
   "outputs": [],
   "source": [
    "trans_only_data['num_exons'] = nums_exons_per_trans"
   ]
  },
  {
   "cell_type": "code",
   "execution_count": 47,
   "metadata": {},
   "outputs": [],
   "source": [
    "import seaborn as sns"
   ]
  },
  {
   "cell_type": "code",
   "execution_count": 71,
   "metadata": {},
   "outputs": [
    {
     "data": {
      "text/plain": [
       "Text(0.5, 0, 'number of exons per transcript')"
      ]
     },
     "execution_count": 71,
     "metadata": {},
     "output_type": "execute_result"
    },
    {
     "data": {
      "image/png": "[encoded data removed]",
      "text/plain": [
       "<Figure size 720x360 with 1 Axes>"
      ]
     },
     "metadata": {},
     "output_type": "display_data"
    }
   ],
   "source": [
    "fig, axes = plt.subplots(figsize=(10,5))\n",
    "sns.boxplot(nums_exons_per_trans, width=0.5, ax = axes)\n",
    "axes.set_xlabel('number of exons per transcript')"
   ]
  },
  {
   "cell_type": "code",
   "execution_count": 50,
   "metadata": {},
   "outputs": [
    {
     "data": {
      "text/plain": [
       "7.245608049298472"
      ]
     },
     "execution_count": 50,
     "metadata": {},
     "output_type": "execute_result"
    }
   ],
   "source": [
    "np.average(nums_exons_per_trans)"
   ]
  },
  {
   "cell_type": "markdown",
   "metadata": {},
   "source": [
    "Understand number of transcripts per gene"
   ]
  },
  {
   "cell_type": "code",
   "execution_count": 51,
   "metadata": {},
   "outputs": [],
   "source": [
    "unique_gene_ids, gene_indexes = np.unique(trans_only_data.gene_id, return_index=True)\n",
    "#prepared for sorting indexes\n",
    "merged_table = pd.DataFrame(unique_gene_ids, index = gene_indexes)\n",
    "merged_table.sort_index(inplace= True)\n",
    "gene_ids = np.array(merged_table[0])"
   ]
  },
  {
   "cell_type": "code",
   "execution_count": 52,
   "metadata": {},
   "outputs": [],
   "source": [
    "#select GENCODE protein-coding genes on one table\n",
    "gencode_genes = gencode_data[gencode_data.feature=='gene']"
   ]
  },
  {
   "cell_type": "code",
   "execution_count": 53,
   "metadata": {},
   "outputs": [],
   "source": [
    "nums_trans_per_gene = []\n",
    "for id_tag in gene_ids:\n",
    "    num_trans = transcript_ovl_result\\\n",
    "    [transcript_ovl_result.gene_id==id_tag].shape[0]\n",
    "    nums_trans_per_gene.append(num_trans)\n",
    "#gencode_only_protein_coding_genes['num_trans'] = nums_trans_per_gene"
   ]
  },
  {
   "cell_type": "code",
   "execution_count": 54,
   "metadata": {},
   "outputs": [
    {
     "data": {
      "text/plain": [
       "<matplotlib.axes._subplots.AxesSubplot at 0x1a6bf32710>"
      ]
     },
     "execution_count": 54,
     "metadata": {},
     "output_type": "execute_result"
    },
    {
     "data": {
      "image/png": "[encoded data removed]",
      "text/plain": [
       "<Figure size 432x288 with 1 Axes>"
      ]
     },
     "metadata": {},
     "output_type": "display_data"
    }
   ],
   "source": [
    "sns.distplot(nums_trans_per_gene, hist_kws={'edgecolor':'black'}, bins = int(180/5))"
   ]
  },
  {
   "cell_type": "code",
   "execution_count": 73,
   "metadata": {},
   "outputs": [
    {
     "data": {
      "text/plain": [
       "Text(0.5, 0, 'number of transcripts per gene')"
      ]
     },
     "execution_count": 73,
     "metadata": {},
     "output_type": "execute_result"
    },
    {
     "data": {
      "image/png": "[encoded data removed]",
      "text/plain": [
       "<Figure size 720x360 with 1 Axes>"
      ]
     },
     "metadata": {},
     "output_type": "display_data"
    }
   ],
   "source": [
    "fig, axes = plt.subplots(figsize=(10,5))\n",
    "sns.boxplot(nums_trans_per_gene, width=0.5, ax = axes)\n",
    "axes.set_xlabel('number of transcripts per gene')"
   ]
  },
  {
   "cell_type": "code",
   "execution_count": 56,
   "metadata": {},
   "outputs": [
    {
     "data": {
      "text/plain": [
       "77"
      ]
     },
     "execution_count": 56,
     "metadata": {},
     "output_type": "execute_result"
    }
   ],
   "source": [
    "np.max(nums_trans_per_gene)"
   ]
  },
  {
   "cell_type": "markdown",
   "metadata": {},
   "source": [
    "Protein coding gentype on gencode"
   ]
  },
  {
   "cell_type": "code",
   "execution_count": null,
   "metadata": {},
   "outputs": [],
   "source": []
  },
  {
   "cell_type": "code",
   "execution_count": 14,
   "metadata": {},
   "outputs": [],
   "source": [
    "def unique_unsorted_elements(array):\n",
    "    array = np.copy(array)\n",
    "    unique_elements, indexes = np.unique(array, return_index=True)\n",
    "    #prepared for sorting indexes\n",
    "    merged_table = pd.DataFrame(unique_elements, index = indexes)\n",
    "    merged_table.sort_index(inplace= True)\n",
    "    unique_unsorted_elements = np.array(merged_table[0])\n",
    "    return unique_unsorted_elements\n",
    "\n",
    "def compare_gencode_chr_portion(capture_list, gencode_table, chr_name):\n",
    "    #return gencode data with dropping unsatisfied data points\n",
    "    capture_chr_list = capture_list[capture_list[0]==chr_name]\n",
    "    #print(capture_chr_list)\n",
    "    capture_chr_list.sort_values(capture_chr_list.columns[1], axis = 0, inplace= True)\n",
    "    capture_chr_list.reset_index(drop= True, inplace = True)\n",
    "    gencode_chr_portion = gencode_table[gencode_table.seqname==chr_name]\n",
    "    gencode_range_array = np.array([gencode_chr_portion.start,\\\n",
    "                                   gencode_chr_portion.end]).T\n",
    "    #print(gencode_range_array)\n",
    "    ovl_indexes, percents_ovl = search_overlap_partners(np.array(capture_chr_list[[1,2]]),gencode_range_array)\n",
    "    #reset_ovl_indexes = np.array(gencode_chr_portion.index)[ovl_indexes]\n",
    "    #print(ovl_indexes)\n",
    "    #print(len(ovl_indexes)-len(gencode_table))\n",
    "    non_ovl_indexes = np.delete(np.array(gencode_chr_portion.index), ovl_indexes, None) #delete portion of array that has the index\n",
    "    #print(non_ovl_indexes)\n",
    "    gencode_table.drop(index = non_ovl_indexes, inplace= True)\n",
    "    return gencode_table\n",
    "\n",
    "def compare_gencode_chr_portion_wo_capture(ref_list, gencode_table, chr_name):\n",
    "    #return gencode data with dropping unsatisfied data points\n",
    "    ref_chr_list = ref_list[ref_list.seqname==chr_name]\n",
    "    #print(capture_chr_list)\n",
    "    ref_chr_list.sort_values(by = ['start'], axis = 0, inplace= True)\n",
    "    ref_chr_list.reset_index(drop= True, inplace = True)\n",
    "    gencode_chr_portion = gencode_table[gencode_table.seqname==chr_name]\n",
    "    gencode_range_array = np.array([gencode_chr_portion.start,\\\n",
    "                                   gencode_chr_portion.end]).T\n",
    "    #print(gencode_range_array)\n",
    "    ovl_indexes, percents_ovl = search_overlap_partners(np.array([ref_chr_list.start, ref_chr_list.end]).T,\\\n",
    "                                                        gencode_range_array)\n",
    "    #reset_ovl_indexes = np.array(gencode_chr_portion.index)[ovl_indexes]\n",
    "    #print(ovl_indexes)\n",
    "    #print(len(ovl_indexes)-len(gencode_table))\n",
    "    non_ovl_indexes = np.delete(np.array(gencode_chr_portion.index), ovl_indexes, None) #delete portion of array that has the index\n",
    "    #print(non_ovl_indexes)\n",
    "    gencode_table.drop(index = non_ovl_indexes, inplace= True)\n",
    "    return gencode_table"
   ]
  },
  {
   "cell_type": "code",
   "execution_count": null,
   "metadata": {},
   "outputs": [],
   "source": []
  },
  {
   "cell_type": "code",
   "execution_count": 12,
   "metadata": {},
   "outputs": [
    {
     "data": {
      "text/html": [
       "<div>\n",
       "<style scoped>\n",
       "    .dataframe tbody tr th:only-of-type {\n",
       "        vertical-align: middle;\n",
       "    }\n",
       "\n",
       "    .dataframe tbody tr th {\n",
       "        vertical-align: top;\n",
       "    }\n",
       "\n",
       "    .dataframe thead th {\n",
       "        text-align: right;\n",
       "    }\n",
       "</style>\n",
       "<table border=\"1\" class=\"dataframe\">\n",
       "  <thead>\n",
       "    <tr style=\"text-align: right;\">\n",
       "      <th></th>\n",
       "      <th>seqname</th>\n",
       "      <th>source</th>\n",
       "      <th>feature</th>\n",
       "      <th>start</th>\n",
       "      <th>end</th>\n",
       "      <th>score</th>\n",
       "      <th>strand</th>\n",
       "      <th>frame</th>\n",
       "      <th>gene_id</th>\n",
       "      <th>gene_type</th>\n",
       "      <th>...</th>\n",
       "      <th>transcript_status</th>\n",
       "      <th>transcript_name</th>\n",
       "      <th>tag</th>\n",
       "      <th>transcript_support_level</th>\n",
       "      <th>havana_transcript</th>\n",
       "      <th>exon_number</th>\n",
       "      <th>exon_id</th>\n",
       "      <th>ont</th>\n",
       "      <th>protein_id</th>\n",
       "      <th>ccdsid</th>\n",
       "    </tr>\n",
       "  </thead>\n",
       "  <tbody>\n",
       "    <tr>\n",
       "      <th>59</th>\n",
       "      <td>chr1</td>\n",
       "      <td>HAVANA</td>\n",
       "      <td>UTR</td>\n",
       "      <td>70006</td>\n",
       "      <td>70008</td>\n",
       "      <td>NaN</td>\n",
       "      <td>+</td>\n",
       "      <td>0</td>\n",
       "      <td>ENSG00000186092.4</td>\n",
       "      <td>protein_coding</td>\n",
       "      <td>...</td>\n",
       "      <td>KNOWN</td>\n",
       "      <td>OR4F5-001</td>\n",
       "      <td>basic,appris_principal_1,CCDS</td>\n",
       "      <td>NA</td>\n",
       "      <td>OTTHUMT00000003223.1</td>\n",
       "      <td></td>\n",
       "      <td></td>\n",
       "      <td></td>\n",
       "      <td>ENSP00000334393.3</td>\n",
       "      <td>CCDS30547.1</td>\n",
       "    </tr>\n",
       "    <tr>\n",
       "      <th>138</th>\n",
       "      <td>chr1</td>\n",
       "      <td>ENSEMBL</td>\n",
       "      <td>UTR</td>\n",
       "      <td>182393</td>\n",
       "      <td>182708</td>\n",
       "      <td>NaN</td>\n",
       "      <td>+</td>\n",
       "      <td>0</td>\n",
       "      <td>ENSG00000279928.1</td>\n",
       "      <td>protein_coding</td>\n",
       "      <td>...</td>\n",
       "      <td>KNOWN</td>\n",
       "      <td>FO538757.3-201</td>\n",
       "      <td>basic,appris_principal_1</td>\n",
       "      <td>1</td>\n",
       "      <td></td>\n",
       "      <td></td>\n",
       "      <td></td>\n",
       "      <td></td>\n",
       "      <td>ENSP00000485457.1</td>\n",
       "      <td></td>\n",
       "    </tr>\n",
       "    <tr>\n",
       "      <th>139</th>\n",
       "      <td>chr1</td>\n",
       "      <td>ENSEMBL</td>\n",
       "      <td>UTR</td>\n",
       "      <td>184156</td>\n",
       "      <td>184158</td>\n",
       "      <td>NaN</td>\n",
       "      <td>+</td>\n",
       "      <td>0</td>\n",
       "      <td>ENSG00000279928.1</td>\n",
       "      <td>protein_coding</td>\n",
       "      <td>...</td>\n",
       "      <td>KNOWN</td>\n",
       "      <td>FO538757.3-201</td>\n",
       "      <td>basic,appris_principal_1</td>\n",
       "      <td>1</td>\n",
       "      <td></td>\n",
       "      <td></td>\n",
       "      <td></td>\n",
       "      <td></td>\n",
       "      <td>ENSP00000485457.1</td>\n",
       "      <td></td>\n",
       "    </tr>\n",
       "    <tr>\n",
       "      <th>164</th>\n",
       "      <td>chr1</td>\n",
       "      <td>ENSEMBL</td>\n",
       "      <td>UTR</td>\n",
       "      <td>184923</td>\n",
       "      <td>185219</td>\n",
       "      <td>NaN</td>\n",
       "      <td>-</td>\n",
       "      <td>0</td>\n",
       "      <td>ENSG00000279457.2</td>\n",
       "      <td>protein_coding</td>\n",
       "      <td>...</td>\n",
       "      <td>KNOWN</td>\n",
       "      <td>FO538757.2-201</td>\n",
       "      <td>basic,appris_alternative_2</td>\n",
       "      <td>5</td>\n",
       "      <td></td>\n",
       "      <td></td>\n",
       "      <td></td>\n",
       "      <td></td>\n",
       "      <td>ENSP00000485222.1</td>\n",
       "      <td></td>\n",
       "    </tr>\n",
       "    <tr>\n",
       "      <th>190</th>\n",
       "      <td>chr1</td>\n",
       "      <td>ENSEMBL</td>\n",
       "      <td>UTR</td>\n",
       "      <td>184925</td>\n",
       "      <td>185219</td>\n",
       "      <td>NaN</td>\n",
       "      <td>-</td>\n",
       "      <td>0</td>\n",
       "      <td>ENSG00000279457.2</td>\n",
       "      <td>protein_coding</td>\n",
       "      <td>...</td>\n",
       "      <td>KNOWN</td>\n",
       "      <td>FO538757.2-202</td>\n",
       "      <td>basic,appris_principal_5</td>\n",
       "      <td>5</td>\n",
       "      <td></td>\n",
       "      <td></td>\n",
       "      <td></td>\n",
       "      <td></td>\n",
       "      <td>ENSP00000485442.1</td>\n",
       "      <td></td>\n",
       "    </tr>\n",
       "  </tbody>\n",
       "</table>\n",
       "<p>5 rows × 26 columns</p>\n",
       "</div>"
      ],
      "text/plain": [
       "    seqname   source feature   start     end  score strand frame  \\\n",
       "59     chr1   HAVANA     UTR   70006   70008    NaN      +     0   \n",
       "138    chr1  ENSEMBL     UTR  182393  182708    NaN      +     0   \n",
       "139    chr1  ENSEMBL     UTR  184156  184158    NaN      +     0   \n",
       "164    chr1  ENSEMBL     UTR  184923  185219    NaN      -     0   \n",
       "190    chr1  ENSEMBL     UTR  184925  185219    NaN      -     0   \n",
       "\n",
       "               gene_id       gene_type     ...      transcript_status  \\\n",
       "59   ENSG00000186092.4  protein_coding     ...                  KNOWN   \n",
       "138  ENSG00000279928.1  protein_coding     ...                  KNOWN   \n",
       "139  ENSG00000279928.1  protein_coding     ...                  KNOWN   \n",
       "164  ENSG00000279457.2  protein_coding     ...                  KNOWN   \n",
       "190  ENSG00000279457.2  protein_coding     ...                  KNOWN   \n",
       "\n",
       "    transcript_name                            tag transcript_support_level  \\\n",
       "59        OR4F5-001  basic,appris_principal_1,CCDS                       NA   \n",
       "138  FO538757.3-201       basic,appris_principal_1                        1   \n",
       "139  FO538757.3-201       basic,appris_principal_1                        1   \n",
       "164  FO538757.2-201     basic,appris_alternative_2                        5   \n",
       "190  FO538757.2-202       basic,appris_principal_5                        5   \n",
       "\n",
       "        havana_transcript exon_number exon_id ont         protein_id  \\\n",
       "59   OTTHUMT00000003223.1                          ENSP00000334393.3   \n",
       "138                                                ENSP00000485457.1   \n",
       "139                                                ENSP00000485457.1   \n",
       "164                                                ENSP00000485222.1   \n",
       "190                                                ENSP00000485442.1   \n",
       "\n",
       "          ccdsid  \n",
       "59   CCDS30547.1  \n",
       "138               \n",
       "139               \n",
       "164               \n",
       "190               \n",
       "\n",
       "[5 rows x 26 columns]"
      ]
     },
     "execution_count": 12,
     "metadata": {},
     "output_type": "execute_result"
    }
   ],
   "source": [
    "#check if any UTRs in CAPTURE:\n",
    "UTR_regions = gencode_data[(gencode_data.feature=='UTR') & (gencode_data.gene_type=='protein_coding')]\n",
    "UTR_regions.head()"
   ]
  },
  {
   "cell_type": "code",
   "execution_count": 45,
   "metadata": {},
   "outputs": [],
   "source": [
    "#ordered by gencode:\n",
    "chr_names = unique_unsorted_elements(np.array(UTR_regions.seqname))"
   ]
  },
  {
   "cell_type": "code",
   "execution_count": 46,
   "metadata": {},
   "outputs": [
    {
     "name": "stderr",
     "output_type": "stream",
     "text": [
      "/Users/ndnguyen20/Applications/anaconda3/lib/python3.6/site-packages/ipykernel_launcher.py:13: SettingWithCopyWarning: \n",
      "A value is trying to be set on a copy of a slice from a DataFrame\n",
      "\n",
      "See the caveats in the documentation: http://pandas.pydata.org/pandas-docs/stable/indexing.html#indexing-view-versus-copy\n",
      "  del sys.path[0]\n"
     ]
    },
    {
     "data": {
      "text/plain": [
       "(216034, 26)"
      ]
     },
     "execution_count": 46,
     "metadata": {},
     "output_type": "execute_result"
    }
   ],
   "source": [
    "UTR_regions_in_CAPTURE = pd.DataFrame.copy(UTR_regions)\n",
    "#set(UTR_regions_in_CAPTURE.seqname)\n",
    "for name in chr_names:\n",
    "    UTR_regions_in_CAPTURE = compare_gencode_chr_portion(capture_data, UTR_regions_in_CAPTURE, name)\n",
    "UTR_regions_in_CAPTURE.shape\n",
    "#no UTR regions found in capture"
   ]
  },
  {
   "cell_type": "code",
   "execution_count": 47,
   "metadata": {},
   "outputs": [
    {
     "data": {
      "text/plain": [
       "0.7828112996970708"
      ]
     },
     "execution_count": 47,
     "metadata": {},
     "output_type": "execute_result"
    }
   ],
   "source": [
    "UTR_regions_in_CAPTURE.shape[0]/UTR_regions.shape[0]"
   ]
  },
  {
   "cell_type": "code",
   "execution_count": 48,
   "metadata": {},
   "outputs": [
    {
     "data": {
      "text/html": [
       "<div>\n",
       "<style scoped>\n",
       "    .dataframe tbody tr th:only-of-type {\n",
       "        vertical-align: middle;\n",
       "    }\n",
       "\n",
       "    .dataframe tbody tr th {\n",
       "        vertical-align: top;\n",
       "    }\n",
       "\n",
       "    .dataframe thead th {\n",
       "        text-align: right;\n",
       "    }\n",
       "</style>\n",
       "<table border=\"1\" class=\"dataframe\">\n",
       "  <thead>\n",
       "    <tr style=\"text-align: right;\">\n",
       "      <th></th>\n",
       "      <th>seqname</th>\n",
       "      <th>source</th>\n",
       "      <th>feature</th>\n",
       "      <th>start</th>\n",
       "      <th>end</th>\n",
       "      <th>score</th>\n",
       "      <th>strand</th>\n",
       "      <th>frame</th>\n",
       "      <th>gene_id</th>\n",
       "      <th>gene_type</th>\n",
       "      <th>...</th>\n",
       "      <th>transcript_status</th>\n",
       "      <th>transcript_name</th>\n",
       "      <th>tag</th>\n",
       "      <th>transcript_support_level</th>\n",
       "      <th>havana_transcript</th>\n",
       "      <th>exon_number</th>\n",
       "      <th>exon_id</th>\n",
       "      <th>ont</th>\n",
       "      <th>protein_id</th>\n",
       "      <th>ccdsid</th>\n",
       "    </tr>\n",
       "  </thead>\n",
       "  <tbody>\n",
       "    <tr>\n",
       "      <th>57</th>\n",
       "      <td>chr1</td>\n",
       "      <td>HAVANA</td>\n",
       "      <td>start_codon</td>\n",
       "      <td>69091</td>\n",
       "      <td>69093</td>\n",
       "      <td>NaN</td>\n",
       "      <td>+</td>\n",
       "      <td>0</td>\n",
       "      <td>ENSG00000186092.4</td>\n",
       "      <td>protein_coding</td>\n",
       "      <td>...</td>\n",
       "      <td>KNOWN</td>\n",
       "      <td>OR4F5-001</td>\n",
       "      <td>basic,appris_principal_1,CCDS</td>\n",
       "      <td>NA</td>\n",
       "      <td>OTTHUMT00000003223.1</td>\n",
       "      <td>1</td>\n",
       "      <td>ENSE00002319515.1</td>\n",
       "      <td></td>\n",
       "      <td>ENSP00000334393.3</td>\n",
       "      <td>CCDS30547.1</td>\n",
       "    </tr>\n",
       "    <tr>\n",
       "      <th>132</th>\n",
       "      <td>chr1</td>\n",
       "      <td>ENSEMBL</td>\n",
       "      <td>start_codon</td>\n",
       "      <td>182709</td>\n",
       "      <td>182711</td>\n",
       "      <td>NaN</td>\n",
       "      <td>+</td>\n",
       "      <td>0</td>\n",
       "      <td>ENSG00000279928.1</td>\n",
       "      <td>protein_coding</td>\n",
       "      <td>...</td>\n",
       "      <td>KNOWN</td>\n",
       "      <td>FO538757.3-201</td>\n",
       "      <td>basic,appris_principal_1</td>\n",
       "      <td>1</td>\n",
       "      <td></td>\n",
       "      <td>1</td>\n",
       "      <td>ENSE00003759020.1</td>\n",
       "      <td></td>\n",
       "      <td>ENSP00000485457.1</td>\n",
       "      <td></td>\n",
       "    </tr>\n",
       "    <tr>\n",
       "      <th>144</th>\n",
       "      <td>chr1</td>\n",
       "      <td>ENSEMBL</td>\n",
       "      <td>start_codon</td>\n",
       "      <td>195409</td>\n",
       "      <td>195411</td>\n",
       "      <td>NaN</td>\n",
       "      <td>-</td>\n",
       "      <td>0</td>\n",
       "      <td>ENSG00000279457.2</td>\n",
       "      <td>protein_coding</td>\n",
       "      <td>...</td>\n",
       "      <td>KNOWN</td>\n",
       "      <td>FO538757.2-201</td>\n",
       "      <td>basic,appris_alternative_2</td>\n",
       "      <td>5</td>\n",
       "      <td></td>\n",
       "      <td>1</td>\n",
       "      <td>ENSE00003758618.1</td>\n",
       "      <td></td>\n",
       "      <td>ENSP00000485222.1</td>\n",
       "      <td></td>\n",
       "    </tr>\n",
       "    <tr>\n",
       "      <th>168</th>\n",
       "      <td>chr1</td>\n",
       "      <td>ENSEMBL</td>\n",
       "      <td>start_codon</td>\n",
       "      <td>195409</td>\n",
       "      <td>195411</td>\n",
       "      <td>NaN</td>\n",
       "      <td>-</td>\n",
       "      <td>0</td>\n",
       "      <td>ENSG00000279457.2</td>\n",
       "      <td>protein_coding</td>\n",
       "      <td>...</td>\n",
       "      <td>KNOWN</td>\n",
       "      <td>FO538757.2-202</td>\n",
       "      <td>basic,appris_principal_5</td>\n",
       "      <td>5</td>\n",
       "      <td></td>\n",
       "      <td>1</td>\n",
       "      <td>ENSE00003755778.1</td>\n",
       "      <td></td>\n",
       "      <td>ENSP00000485442.1</td>\n",
       "      <td></td>\n",
       "    </tr>\n",
       "    <tr>\n",
       "      <th>194</th>\n",
       "      <td>chr1</td>\n",
       "      <td>ENSEMBL</td>\n",
       "      <td>start_codon</td>\n",
       "      <td>200084</td>\n",
       "      <td>200086</td>\n",
       "      <td>NaN</td>\n",
       "      <td>-</td>\n",
       "      <td>0</td>\n",
       "      <td>ENSG00000279457.2</td>\n",
       "      <td>protein_coding</td>\n",
       "      <td>...</td>\n",
       "      <td>KNOWN</td>\n",
       "      <td>FO538757.2-203</td>\n",
       "      <td>basic,appris_alternative_2</td>\n",
       "      <td>5</td>\n",
       "      <td></td>\n",
       "      <td>1</td>\n",
       "      <td>ENSE00003757911.1</td>\n",
       "      <td></td>\n",
       "      <td>ENSP00000485351.1</td>\n",
       "      <td></td>\n",
       "    </tr>\n",
       "  </tbody>\n",
       "</table>\n",
       "<p>5 rows × 26 columns</p>\n",
       "</div>"
      ],
      "text/plain": [
       "    seqname   source      feature   start     end  score strand frame  \\\n",
       "57     chr1   HAVANA  start_codon   69091   69093    NaN      +     0   \n",
       "132    chr1  ENSEMBL  start_codon  182709  182711    NaN      +     0   \n",
       "144    chr1  ENSEMBL  start_codon  195409  195411    NaN      -     0   \n",
       "168    chr1  ENSEMBL  start_codon  195409  195411    NaN      -     0   \n",
       "194    chr1  ENSEMBL  start_codon  200084  200086    NaN      -     0   \n",
       "\n",
       "               gene_id       gene_type     ...      transcript_status  \\\n",
       "57   ENSG00000186092.4  protein_coding     ...                  KNOWN   \n",
       "132  ENSG00000279928.1  protein_coding     ...                  KNOWN   \n",
       "144  ENSG00000279457.2  protein_coding     ...                  KNOWN   \n",
       "168  ENSG00000279457.2  protein_coding     ...                  KNOWN   \n",
       "194  ENSG00000279457.2  protein_coding     ...                  KNOWN   \n",
       "\n",
       "    transcript_name                            tag transcript_support_level  \\\n",
       "57        OR4F5-001  basic,appris_principal_1,CCDS                       NA   \n",
       "132  FO538757.3-201       basic,appris_principal_1                        1   \n",
       "144  FO538757.2-201     basic,appris_alternative_2                        5   \n",
       "168  FO538757.2-202       basic,appris_principal_5                        5   \n",
       "194  FO538757.2-203     basic,appris_alternative_2                        5   \n",
       "\n",
       "        havana_transcript exon_number            exon_id ont  \\\n",
       "57   OTTHUMT00000003223.1           1  ENSE00002319515.1       \n",
       "132                                 1  ENSE00003759020.1       \n",
       "144                                 1  ENSE00003758618.1       \n",
       "168                                 1  ENSE00003755778.1       \n",
       "194                                 1  ENSE00003757911.1       \n",
       "\n",
       "            protein_id       ccdsid  \n",
       "57   ENSP00000334393.3  CCDS30547.1  \n",
       "132  ENSP00000485457.1               \n",
       "144  ENSP00000485222.1               \n",
       "168  ENSP00000485442.1               \n",
       "194  ENSP00000485351.1               \n",
       "\n",
       "[5 rows x 26 columns]"
      ]
     },
     "execution_count": 48,
     "metadata": {},
     "output_type": "execute_result"
    }
   ],
   "source": [
    "#check if start codons in CAPTURE:\n",
    "start_codons= gencode_data[(gencode_data.feature=='start_codon') & (gencode_data.gene_type=='protein_coding')]\n",
    "start_codons.head()"
   ]
  },
  {
   "cell_type": "code",
   "execution_count": 49,
   "metadata": {},
   "outputs": [
    {
     "name": "stderr",
     "output_type": "stream",
     "text": [
      "/Users/ndnguyen20/Applications/anaconda3/lib/python3.6/site-packages/ipykernel_launcher.py:13: SettingWithCopyWarning: \n",
      "A value is trying to be set on a copy of a slice from a DataFrame\n",
      "\n",
      "See the caveats in the documentation: http://pandas.pydata.org/pandas-docs/stable/indexing.html#indexing-view-versus-copy\n",
      "  del sys.path[0]\n"
     ]
    },
    {
     "data": {
      "text/plain": [
       "0.985237687889527"
      ]
     },
     "execution_count": 49,
     "metadata": {},
     "output_type": "execute_result"
    }
   ],
   "source": [
    "start_codons_in_CAPTURE = pd.DataFrame.copy(start_codons)\n",
    "for name in chr_names:\n",
    "    start_codons_in_CAPTURE = compare_gencode_chr_portion(capture_data,start_codons_in_CAPTURE, name)\n",
    "start_codons_in_CAPTURE.shape[0]/start_codons.shape[0]"
   ]
  },
  {
   "cell_type": "code",
   "execution_count": 50,
   "metadata": {},
   "outputs": [
    {
     "data": {
      "text/html": [
       "<div>\n",
       "<style scoped>\n",
       "    .dataframe tbody tr th:only-of-type {\n",
       "        vertical-align: middle;\n",
       "    }\n",
       "\n",
       "    .dataframe tbody tr th {\n",
       "        vertical-align: top;\n",
       "    }\n",
       "\n",
       "    .dataframe thead th {\n",
       "        text-align: right;\n",
       "    }\n",
       "</style>\n",
       "<table border=\"1\" class=\"dataframe\">\n",
       "  <thead>\n",
       "    <tr style=\"text-align: right;\">\n",
       "      <th></th>\n",
       "      <th>seqname</th>\n",
       "      <th>source</th>\n",
       "      <th>feature</th>\n",
       "      <th>start</th>\n",
       "      <th>end</th>\n",
       "      <th>score</th>\n",
       "      <th>strand</th>\n",
       "      <th>frame</th>\n",
       "      <th>gene_id</th>\n",
       "      <th>gene_type</th>\n",
       "      <th>...</th>\n",
       "      <th>transcript_status</th>\n",
       "      <th>transcript_name</th>\n",
       "      <th>tag</th>\n",
       "      <th>transcript_support_level</th>\n",
       "      <th>havana_transcript</th>\n",
       "      <th>exon_number</th>\n",
       "      <th>exon_id</th>\n",
       "      <th>ont</th>\n",
       "      <th>protein_id</th>\n",
       "      <th>ccdsid</th>\n",
       "    </tr>\n",
       "  </thead>\n",
       "  <tbody>\n",
       "    <tr>\n",
       "      <th>58</th>\n",
       "      <td>chr1</td>\n",
       "      <td>HAVANA</td>\n",
       "      <td>stop_codon</td>\n",
       "      <td>70006</td>\n",
       "      <td>70008</td>\n",
       "      <td>NaN</td>\n",
       "      <td>+</td>\n",
       "      <td>0</td>\n",
       "      <td>ENSG00000186092.4</td>\n",
       "      <td>protein_coding</td>\n",
       "      <td>...</td>\n",
       "      <td>KNOWN</td>\n",
       "      <td>OR4F5-001</td>\n",
       "      <td>basic,appris_principal_1,CCDS</td>\n",
       "      <td>NA</td>\n",
       "      <td>OTTHUMT00000003223.1</td>\n",
       "      <td>1</td>\n",
       "      <td>ENSE00002319515.1</td>\n",
       "      <td></td>\n",
       "      <td>ENSP00000334393.3</td>\n",
       "      <td>CCDS30547.1</td>\n",
       "    </tr>\n",
       "    <tr>\n",
       "      <th>137</th>\n",
       "      <td>chr1</td>\n",
       "      <td>ENSEMBL</td>\n",
       "      <td>stop_codon</td>\n",
       "      <td>184156</td>\n",
       "      <td>184158</td>\n",
       "      <td>NaN</td>\n",
       "      <td>+</td>\n",
       "      <td>0</td>\n",
       "      <td>ENSG00000279928.1</td>\n",
       "      <td>protein_coding</td>\n",
       "      <td>...</td>\n",
       "      <td>KNOWN</td>\n",
       "      <td>FO538757.3-201</td>\n",
       "      <td>basic,appris_principal_1</td>\n",
       "      <td>1</td>\n",
       "      <td></td>\n",
       "      <td>3</td>\n",
       "      <td>ENSE00003760199.1</td>\n",
       "      <td></td>\n",
       "      <td>ENSP00000485457.1</td>\n",
       "      <td></td>\n",
       "    </tr>\n",
       "    <tr>\n",
       "      <th>163</th>\n",
       "      <td>chr1</td>\n",
       "      <td>ENSEMBL</td>\n",
       "      <td>stop_codon</td>\n",
       "      <td>185217</td>\n",
       "      <td>185219</td>\n",
       "      <td>NaN</td>\n",
       "      <td>-</td>\n",
       "      <td>0</td>\n",
       "      <td>ENSG00000279457.2</td>\n",
       "      <td>protein_coding</td>\n",
       "      <td>...</td>\n",
       "      <td>KNOWN</td>\n",
       "      <td>FO538757.2-201</td>\n",
       "      <td>basic,appris_alternative_2</td>\n",
       "      <td>5</td>\n",
       "      <td></td>\n",
       "      <td>10</td>\n",
       "      <td>ENSE00003758954.1</td>\n",
       "      <td></td>\n",
       "      <td>ENSP00000485222.1</td>\n",
       "      <td></td>\n",
       "    </tr>\n",
       "    <tr>\n",
       "      <th>189</th>\n",
       "      <td>chr1</td>\n",
       "      <td>ENSEMBL</td>\n",
       "      <td>stop_codon</td>\n",
       "      <td>185217</td>\n",
       "      <td>185219</td>\n",
       "      <td>NaN</td>\n",
       "      <td>-</td>\n",
       "      <td>0</td>\n",
       "      <td>ENSG00000279457.2</td>\n",
       "      <td>protein_coding</td>\n",
       "      <td>...</td>\n",
       "      <td>KNOWN</td>\n",
       "      <td>FO538757.2-202</td>\n",
       "      <td>basic,appris_principal_5</td>\n",
       "      <td>5</td>\n",
       "      <td></td>\n",
       "      <td>11</td>\n",
       "      <td>ENSE00003755076.1</td>\n",
       "      <td></td>\n",
       "      <td>ENSP00000485442.1</td>\n",
       "      <td></td>\n",
       "    </tr>\n",
       "    <tr>\n",
       "      <th>223</th>\n",
       "      <td>chr1</td>\n",
       "      <td>ENSEMBL</td>\n",
       "      <td>stop_codon</td>\n",
       "      <td>184927</td>\n",
       "      <td>184929</td>\n",
       "      <td>NaN</td>\n",
       "      <td>-</td>\n",
       "      <td>0</td>\n",
       "      <td>ENSG00000279457.2</td>\n",
       "      <td>protein_coding</td>\n",
       "      <td>...</td>\n",
       "      <td>KNOWN</td>\n",
       "      <td>FO538757.2-203</td>\n",
       "      <td>basic,appris_alternative_2</td>\n",
       "      <td>5</td>\n",
       "      <td></td>\n",
       "      <td>15</td>\n",
       "      <td>ENSE00003759031.1</td>\n",
       "      <td></td>\n",
       "      <td>ENSP00000485351.1</td>\n",
       "      <td></td>\n",
       "    </tr>\n",
       "  </tbody>\n",
       "</table>\n",
       "<p>5 rows × 26 columns</p>\n",
       "</div>"
      ],
      "text/plain": [
       "    seqname   source     feature   start     end  score strand frame  \\\n",
       "58     chr1   HAVANA  stop_codon   70006   70008    NaN      +     0   \n",
       "137    chr1  ENSEMBL  stop_codon  184156  184158    NaN      +     0   \n",
       "163    chr1  ENSEMBL  stop_codon  185217  185219    NaN      -     0   \n",
       "189    chr1  ENSEMBL  stop_codon  185217  185219    NaN      -     0   \n",
       "223    chr1  ENSEMBL  stop_codon  184927  184929    NaN      -     0   \n",
       "\n",
       "               gene_id       gene_type     ...      transcript_status  \\\n",
       "58   ENSG00000186092.4  protein_coding     ...                  KNOWN   \n",
       "137  ENSG00000279928.1  protein_coding     ...                  KNOWN   \n",
       "163  ENSG00000279457.2  protein_coding     ...                  KNOWN   \n",
       "189  ENSG00000279457.2  protein_coding     ...                  KNOWN   \n",
       "223  ENSG00000279457.2  protein_coding     ...                  KNOWN   \n",
       "\n",
       "    transcript_name                            tag transcript_support_level  \\\n",
       "58        OR4F5-001  basic,appris_principal_1,CCDS                       NA   \n",
       "137  FO538757.3-201       basic,appris_principal_1                        1   \n",
       "163  FO538757.2-201     basic,appris_alternative_2                        5   \n",
       "189  FO538757.2-202       basic,appris_principal_5                        5   \n",
       "223  FO538757.2-203     basic,appris_alternative_2                        5   \n",
       "\n",
       "        havana_transcript exon_number            exon_id ont  \\\n",
       "58   OTTHUMT00000003223.1           1  ENSE00002319515.1       \n",
       "137                                 3  ENSE00003760199.1       \n",
       "163                                10  ENSE00003758954.1       \n",
       "189                                11  ENSE00003755076.1       \n",
       "223                                15  ENSE00003759031.1       \n",
       "\n",
       "            protein_id       ccdsid  \n",
       "58   ENSP00000334393.3  CCDS30547.1  \n",
       "137  ENSP00000485457.1               \n",
       "163  ENSP00000485222.1               \n",
       "189  ENSP00000485442.1               \n",
       "223  ENSP00000485351.1               \n",
       "\n",
       "[5 rows x 26 columns]"
      ]
     },
     "execution_count": 50,
     "metadata": {},
     "output_type": "execute_result"
    }
   ],
   "source": [
    "stop_codons= gencode_data[(gencode_data.feature=='stop_codon') & (gencode_data.gene_type=='protein_coding')]\n",
    "stop_codons.head()"
   ]
  },
  {
   "cell_type": "code",
   "execution_count": 51,
   "metadata": {},
   "outputs": [
    {
     "name": "stderr",
     "output_type": "stream",
     "text": [
      "/Users/ndnguyen20/Applications/anaconda3/lib/python3.6/site-packages/ipykernel_launcher.py:13: SettingWithCopyWarning: \n",
      "A value is trying to be set on a copy of a slice from a DataFrame\n",
      "\n",
      "See the caveats in the documentation: http://pandas.pydata.org/pandas-docs/stable/indexing.html#indexing-view-versus-copy\n",
      "  del sys.path[0]\n"
     ]
    },
    {
     "data": {
      "text/plain": [
       "0.9419801205712975"
      ]
     },
     "execution_count": 51,
     "metadata": {},
     "output_type": "execute_result"
    }
   ],
   "source": [
    "stop_codons_in_CAPTURE = pd.DataFrame.copy(stop_codons)\n",
    "for name in chr_names:\n",
    "    stop_codons_in_CAPTURE = compare_gencode_chr_portion(capture_data, stop_codons_in_CAPTURE, name)\n",
    "stop_codons_in_CAPTURE.shape[0]/stop_codons.shape[0]"
   ]
  },
  {
   "cell_type": "markdown",
   "metadata": {},
   "source": [
    "Quick search how many UTRs are stop codons"
   ]
  },
  {
   "cell_type": "code",
   "execution_count": 54,
   "metadata": {},
   "outputs": [],
   "source": [
    "stop_codons.reset_index(drop= True, inplace= True)"
   ]
  },
  {
   "cell_type": "code",
   "execution_count": 57,
   "metadata": {},
   "outputs": [
    {
     "name": "stderr",
     "output_type": "stream",
     "text": [
      "/Users/ndnguyen20/Applications/anaconda3/lib/python3.6/site-packages/ipykernel_launcher.py:31: SettingWithCopyWarning: \n",
      "A value is trying to be set on a copy of a slice from a DataFrame\n",
      "\n",
      "See the caveats in the documentation: http://pandas.pydata.org/pandas-docs/stable/indexing.html#indexing-view-versus-copy\n"
     ]
    },
    {
     "data": {
      "text/plain": [
       "0.32062310669198324"
      ]
     },
     "execution_count": 57,
     "metadata": {},
     "output_type": "execute_result"
    }
   ],
   "source": [
    "UTR_regions_in_stop_codons = pd.DataFrame.copy(UTR_regions)\n",
    "for name in chr_names:\n",
    "    UTR_regions_in_stop_codons = compare_gencode_chr_portion_wo_capture(stop_codons, UTR_regions_in_stop_codons, name)\n",
    "UTR_regions_in_stop_codons.shape[0]/UTR_regions.shape[0]"
   ]
  },
  {
   "cell_type": "markdown",
   "metadata": {},
   "source": [
    "Making sure CAPTURE exons do not overlap each other:"
   ]
  },
  {
   "cell_type": "code",
   "execution_count": 177,
   "metadata": {},
   "outputs": [
    {
     "name": "stderr",
     "output_type": "stream",
     "text": [
      "/Users/ndnguyen20/Applications/anaconda3/lib/python3.6/site-packages/ipykernel_launcher.py:5: SettingWithCopyWarning: \n",
      "A value is trying to be set on a copy of a slice from a DataFrame\n",
      "\n",
      "See the caveats in the documentation: http://pandas.pydata.org/pandas-docs/stable/indexing.html#indexing-view-versus-copy\n",
      "  \"\"\"\n"
     ]
    },
    {
     "name": "stdout",
     "output_type": "stream",
     "text": [
      "chr1\n",
      "[]\n",
      "chr2\n",
      "[]\n",
      "chr3\n",
      "[]\n",
      "chr4\n",
      "[]\n",
      "chr5\n",
      "[]\n",
      "chr6\n",
      "[]\n",
      "chr7\n",
      "[]\n",
      "chr8\n",
      "[]\n",
      "chr9\n",
      "[]\n",
      "chr10\n",
      "[]\n",
      "chr11\n",
      "[]\n",
      "chr12\n",
      "[]\n",
      "chr13\n",
      "[]\n",
      "chr14\n",
      "[]\n",
      "chr15\n",
      "[]\n",
      "chr16\n",
      "[]\n",
      "chr17\n",
      "[]\n",
      "chr18\n",
      "[]\n",
      "chr19\n",
      "[]\n",
      "chr20\n",
      "[]\n",
      "chr21\n",
      "[]\n",
      "chr22\n",
      "[]\n",
      "chrX\n",
      "[]\n",
      "chrY\n",
      "[]\n",
      "chrM\n",
      "[]\n"
     ]
    }
   ],
   "source": [
    "\n",
    "for name in chr_names:\n",
    "    capture_check = detect_collapse_hg38_exons(CAPTURE_dict_chr[name])\n",
    "    capture_check.sort_values(1, inplace= True)\n",
    "    capture_check.reset_index(drop= True, inplace= True)\n",
    "\n",
    "#--> we have a hundred of those having alternative haplotypes that collapse into a single exon\n",
    "# no end-to-end touching"
   ]
  },
  {
   "cell_type": "code",
   "execution_count": 15,
   "metadata": {},
   "outputs": [
    {
     "data": {
      "text/html": [
       "<div>\n",
       "<style scoped>\n",
       "    .dataframe tbody tr th:only-of-type {\n",
       "        vertical-align: middle;\n",
       "    }\n",
       "\n",
       "    .dataframe tbody tr th {\n",
       "        vertical-align: top;\n",
       "    }\n",
       "\n",
       "    .dataframe thead th {\n",
       "        text-align: right;\n",
       "    }\n",
       "</style>\n",
       "<table border=\"1\" class=\"dataframe\">\n",
       "  <thead>\n",
       "    <tr style=\"text-align: right;\">\n",
       "      <th></th>\n",
       "      <th>seqname</th>\n",
       "      <th>source</th>\n",
       "      <th>feature</th>\n",
       "      <th>start</th>\n",
       "      <th>end</th>\n",
       "      <th>score</th>\n",
       "      <th>strand</th>\n",
       "      <th>frame</th>\n",
       "      <th>gene_id</th>\n",
       "      <th>gene_type</th>\n",
       "      <th>...</th>\n",
       "      <th>transcript_status</th>\n",
       "      <th>transcript_name</th>\n",
       "      <th>tag</th>\n",
       "      <th>transcript_support_level</th>\n",
       "      <th>havana_transcript</th>\n",
       "      <th>exon_number</th>\n",
       "      <th>exon_id</th>\n",
       "      <th>ont</th>\n",
       "      <th>protein_id</th>\n",
       "      <th>ccdsid</th>\n",
       "    </tr>\n",
       "  </thead>\n",
       "  <tbody>\n",
       "    <tr>\n",
       "      <th>53</th>\n",
       "      <td>chr1</td>\n",
       "      <td>HAVANA</td>\n",
       "      <td>gene</td>\n",
       "      <td>69091</td>\n",
       "      <td>70008</td>\n",
       "      <td>NaN</td>\n",
       "      <td>+</td>\n",
       "      <td>0</td>\n",
       "      <td>ENSG00000186092.4</td>\n",
       "      <td>protein_coding</td>\n",
       "      <td>...</td>\n",
       "      <td></td>\n",
       "      <td></td>\n",
       "      <td></td>\n",
       "      <td></td>\n",
       "      <td></td>\n",
       "      <td></td>\n",
       "      <td></td>\n",
       "      <td></td>\n",
       "      <td></td>\n",
       "      <td></td>\n",
       "    </tr>\n",
       "    <tr>\n",
       "      <th>54</th>\n",
       "      <td>chr1</td>\n",
       "      <td>HAVANA</td>\n",
       "      <td>transcript</td>\n",
       "      <td>69091</td>\n",
       "      <td>70008</td>\n",
       "      <td>NaN</td>\n",
       "      <td>+</td>\n",
       "      <td>0</td>\n",
       "      <td>ENSG00000186092.4</td>\n",
       "      <td>protein_coding</td>\n",
       "      <td>...</td>\n",
       "      <td>KNOWN</td>\n",
       "      <td>OR4F5-001</td>\n",
       "      <td>basic,appris_principal_1,CCDS</td>\n",
       "      <td>NA</td>\n",
       "      <td>OTTHUMT00000003223.1</td>\n",
       "      <td></td>\n",
       "      <td></td>\n",
       "      <td></td>\n",
       "      <td>ENSP00000334393.3</td>\n",
       "      <td>CCDS30547.1</td>\n",
       "    </tr>\n",
       "    <tr>\n",
       "      <th>55</th>\n",
       "      <td>chr1</td>\n",
       "      <td>HAVANA</td>\n",
       "      <td>exon</td>\n",
       "      <td>69091</td>\n",
       "      <td>70008</td>\n",
       "      <td>NaN</td>\n",
       "      <td>+</td>\n",
       "      <td>0</td>\n",
       "      <td>ENSG00000186092.4</td>\n",
       "      <td>protein_coding</td>\n",
       "      <td>...</td>\n",
       "      <td>KNOWN</td>\n",
       "      <td>OR4F5-001</td>\n",
       "      <td>basic,appris_principal_1,CCDS</td>\n",
       "      <td>NA</td>\n",
       "      <td>OTTHUMT00000003223.1</td>\n",
       "      <td>1</td>\n",
       "      <td>ENSE00002319515.1</td>\n",
       "      <td></td>\n",
       "      <td>ENSP00000334393.3</td>\n",
       "      <td>CCDS30547.1</td>\n",
       "    </tr>\n",
       "    <tr>\n",
       "      <th>56</th>\n",
       "      <td>chr1</td>\n",
       "      <td>HAVANA</td>\n",
       "      <td>CDS</td>\n",
       "      <td>69091</td>\n",
       "      <td>70005</td>\n",
       "      <td>NaN</td>\n",
       "      <td>+</td>\n",
       "      <td>0</td>\n",
       "      <td>ENSG00000186092.4</td>\n",
       "      <td>protein_coding</td>\n",
       "      <td>...</td>\n",
       "      <td>KNOWN</td>\n",
       "      <td>OR4F5-001</td>\n",
       "      <td>basic,appris_principal_1,CCDS</td>\n",
       "      <td>NA</td>\n",
       "      <td>OTTHUMT00000003223.1</td>\n",
       "      <td>1</td>\n",
       "      <td>ENSE00002319515.1</td>\n",
       "      <td></td>\n",
       "      <td>ENSP00000334393.3</td>\n",
       "      <td>CCDS30547.1</td>\n",
       "    </tr>\n",
       "    <tr>\n",
       "      <th>57</th>\n",
       "      <td>chr1</td>\n",
       "      <td>HAVANA</td>\n",
       "      <td>start_codon</td>\n",
       "      <td>69091</td>\n",
       "      <td>69093</td>\n",
       "      <td>NaN</td>\n",
       "      <td>+</td>\n",
       "      <td>0</td>\n",
       "      <td>ENSG00000186092.4</td>\n",
       "      <td>protein_coding</td>\n",
       "      <td>...</td>\n",
       "      <td>KNOWN</td>\n",
       "      <td>OR4F5-001</td>\n",
       "      <td>basic,appris_principal_1,CCDS</td>\n",
       "      <td>NA</td>\n",
       "      <td>OTTHUMT00000003223.1</td>\n",
       "      <td>1</td>\n",
       "      <td>ENSE00002319515.1</td>\n",
       "      <td></td>\n",
       "      <td>ENSP00000334393.3</td>\n",
       "      <td>CCDS30547.1</td>\n",
       "    </tr>\n",
       "  </tbody>\n",
       "</table>\n",
       "<p>5 rows × 26 columns</p>\n",
       "</div>"
      ],
      "text/plain": [
       "   seqname  source      feature  start    end  score strand frame  \\\n",
       "53    chr1  HAVANA         gene  69091  70008    NaN      +     0   \n",
       "54    chr1  HAVANA   transcript  69091  70008    NaN      +     0   \n",
       "55    chr1  HAVANA         exon  69091  70008    NaN      +     0   \n",
       "56    chr1  HAVANA          CDS  69091  70005    NaN      +     0   \n",
       "57    chr1  HAVANA  start_codon  69091  69093    NaN      +     0   \n",
       "\n",
       "              gene_id       gene_type     ...      transcript_status  \\\n",
       "53  ENSG00000186092.4  protein_coding     ...                          \n",
       "54  ENSG00000186092.4  protein_coding     ...                  KNOWN   \n",
       "55  ENSG00000186092.4  protein_coding     ...                  KNOWN   \n",
       "56  ENSG00000186092.4  protein_coding     ...                  KNOWN   \n",
       "57  ENSG00000186092.4  protein_coding     ...                  KNOWN   \n",
       "\n",
       "   transcript_name                            tag transcript_support_level  \\\n",
       "53                                                                           \n",
       "54       OR4F5-001  basic,appris_principal_1,CCDS                       NA   \n",
       "55       OR4F5-001  basic,appris_principal_1,CCDS                       NA   \n",
       "56       OR4F5-001  basic,appris_principal_1,CCDS                       NA   \n",
       "57       OR4F5-001  basic,appris_principal_1,CCDS                       NA   \n",
       "\n",
       "       havana_transcript exon_number            exon_id ont  \\\n",
       "53                                                            \n",
       "54  OTTHUMT00000003223.1                                      \n",
       "55  OTTHUMT00000003223.1           1  ENSE00002319515.1       \n",
       "56  OTTHUMT00000003223.1           1  ENSE00002319515.1       \n",
       "57  OTTHUMT00000003223.1           1  ENSE00002319515.1       \n",
       "\n",
       "           protein_id       ccdsid  \n",
       "53                                  \n",
       "54  ENSP00000334393.3  CCDS30547.1  \n",
       "55  ENSP00000334393.3  CCDS30547.1  \n",
       "56  ENSP00000334393.3  CCDS30547.1  \n",
       "57  ENSP00000334393.3  CCDS30547.1  \n",
       "\n",
       "[5 rows x 26 columns]"
      ]
     },
     "execution_count": 15,
     "metadata": {},
     "output_type": "execute_result"
    }
   ],
   "source": [
    "gencode_protein_coding_gene = gencode_data[(gencode_data.gene_type=='protein_coding')]\n",
    "gencode_protein_coding_gene.head()"
   ]
  },
  {
   "cell_type": "markdown",
   "metadata": {},
   "source": [
    "make sure GENCODE exons do overlap each other per gene:"
   ]
  },
  {
   "cell_type": "code",
   "execution_count": null,
   "metadata": {},
   "outputs": [],
   "source": []
  },
  {
   "cell_type": "markdown",
   "metadata": {},
   "source": [
    "Report fractions of genes found in CAPTURE."
   ]
  },
  {
   "cell_type": "code",
   "execution_count": null,
   "metadata": {},
   "outputs": [],
   "source": []
  },
  {
   "cell_type": "code",
   "execution_count": 16,
   "metadata": {},
   "outputs": [],
   "source": [
    "#Copy and modify from GENCODE_CAPTURE_matching.ipynb\n",
    "def percent_difference(reference, range_ovl):\n",
    "    reference = np.copy(reference)\n",
    "    range_ovl = np.copy(range_ovl)\n",
    "    rd = (min(reference[1], range_ovl[1])-max(reference[0], range_ovl[0])+1)/(reference[1]-reference[0]+1)\n",
    "    return rd\n",
    "def range_difference(range1, range2):\n",
    "    range1 = np.copy(range1)\n",
    "    range2 = np.copy(range2)\n",
    "    rd = min(range1[1], range2[1])-max(range1[0], range2[0])+1\n",
    "    return rd\n",
    "def search_overlap_partners(chr_ref, chr_search, return_indexes = False):\n",
    "    \"\"\"reform the search function\"\"\"\n",
    "    chr_ref = np.copy(chr_ref)\n",
    "    chr_search = np.copy(chr_search)\n",
    "    search_indexes = []\n",
    "    ref_indexes = []\n",
    "    p_refs=[]\n",
    "    ranges_ovl = np.array([0])\n",
    "\n",
    "    for i in range(chr_search.shape[0]):\n",
    "        \n",
    "        p_search = chr_search[i]\n",
    "        closest_ref_val = np.argwhere(chr_ref[:,0]-p_search[0]<0)\n",
    "        if closest_ref_val.size > 0:\n",
    "            ref_i = np.max(closest_ref_val) #lower start of ref closest to start of search \n",
    "            p_ref = chr_ref[ref_i]\n",
    "        else:\n",
    "\n",
    "            ref_i = 0 #just to make sure\n",
    "            p_ref = chr_ref[ref_i]\n",
    "            #not to let the ref pass over:\n",
    "        while ((max(p_ref[0], p_search[0])-min(p_ref[1], p_search[1]))>0) and (p_ref[0]<p_search[1]) and (ref_i < len(chr_ref)):\n",
    "\n",
    "\n",
    "\n",
    "            ref_i += 1\n",
    "            if ref_i <len(chr_ref):\n",
    "                p_ref = chr_ref[ref_i]\n",
    "\n",
    "        #Just to make sure a search is matched with all ref\n",
    "        while (p_search[1]>p_ref[0]) and (ref_i <len(chr_ref)):\n",
    "            if ((min(p_ref[1], p_search[1])-max(p_ref[0], p_search[0]))>0):\n",
    "\n",
    "                if i not in search_indexes:\n",
    "                    #print(p_search, p_ref)\n",
    "                    ranges_ovl= np.append(ranges_ovl, \\\n",
    "                                          range_difference(p_search, p_ref)) #percent of search being overlapped\n",
    "                search_indexes.append(i)\n",
    "                ref_indexes.append(ref_i)\n",
    "                p_refs.append(p_ref.tolist())\n",
    "            ref_i+=1\n",
    "            if ref_i <len(chr_ref):\n",
    "                p_ref= chr_ref[ref_i]\n",
    "\n",
    "            \n",
    "    if len(p_refs)>0: \n",
    "        unique_p_refs = np.unique(p_refs, axis = 0)\n",
    "\n",
    "        num_refs_ovl = unique_p_refs.shape[0]\n",
    "        if unique_p_refs.shape[0] > 1:\n",
    "            ranges_ref_ovl = unique_p_refs[:,1]- unique_p_refs[:,0]+1\n",
    "        else:\n",
    "\n",
    "            ranges_ref_ovl = np.array(unique_p_refs[0][1]-unique_p_refs[0][0]+1)\n",
    "    else:\n",
    "        num_refs_ovl = 0\n",
    "        ranges_ref_ovl = np.array([], dtype=int)\n",
    "\n",
    "    if return_indexes:\n",
    "        return ref_indexes, search_indexes\n",
    "    else:\n",
    "        return ranges_ovl, num_refs_ovl, ranges_ref_ovl"
   ]
  },
  {
   "cell_type": "code",
   "execution_count": 17,
   "metadata": {},
   "outputs": [],
   "source": [
    "gene_collection = unique_unsorted_elements(gencode_protein_coding_gene.gene_name)"
   ]
  },
  {
   "cell_type": "code",
   "execution_count": 18,
   "metadata": {},
   "outputs": [],
   "source": [
    "def temporary_table(a =0):\n",
    "    return pd.DataFrame(columns=[['gene_name','gene_id','#TX','#CAP_exons','#CAP_bases',\\\n",
    "                                            '#GC_exons','#GC_bases','%bases_ovl','%UTR_bases_ovl','%exon_bases_ovl']])\n",
    "def merge_ranges(ls):\n",
    "    ls = np.copy(ls)\n",
    "    ls = ls[np.argsort(ls, axis = 0)[:,0]]\n",
    "    ovl_list =[]\n",
    "    for i in range(1,ls.shape[0]):\n",
    "        if (ls[i,0] < ls[i-1,1]):\n",
    "            ls[i,0] = np.min(ls[i-1:i+1,0])\n",
    "            ls[i,1] = np.max(ls[i-1:i+1,1])\n",
    "            ovl_list.append(i-1)\n",
    "    refined_list = np.delete(ls, ovl_list, 0)\n",
    "    return refined_list\n",
    "\n",
    "\n",
    "def remove_ranges(ls, ls2rm, with_indexes = False):\n",
    "\n",
    "    ls = np.copy(ls)\n",
    "    ls2rm = np.copy(ls2rm)\n",
    "    ls_ovl_indexes,ls2rm_ovl_indexes = search_overlap_partners(ls, ls2rm,return_indexes=True)\n",
    "    #print(search_overlap_partners(ls, ls2rm,return_indexes=True))\n",
    "    del_indexes = []\n",
    "    remain_indexes = []\n",
    "    for i in range(len(ls_ovl_indexes)):\n",
    "        ovl_region = np.array([np.max([ls[ls_ovl_indexes[i], 0], ls2rm[ls2rm_ovl_indexes[i],0]]),\\\n",
    "                               np.min([ls[ls_ovl_indexes[i], 1], ls2rm[ls2rm_ovl_indexes[i], 1]])])\n",
    "        if (ovl_region[1]-ovl_region[0])==(ls[ls_ovl_indexes[i], 1] - ls[ls_ovl_indexes[i], 0]):\n",
    "            del_indexes.append(i)\n",
    "            #print('UTR fl')\n",
    "        elif ovl_region[1] < ls[ls_ovl_indexes[i],1]:\n",
    "            remain_indexes.append(i)\n",
    "            ls[ls_ovl_indexes[i],0] = ovl_region[1]+1\n",
    "        elif ovl_region[0]>ls[ls_ovl_indexes[i],0]:\n",
    "            remain_indexes.append(i)\n",
    "            ls[ls_ovl_indexes[i],1] = ovl_region[0]-1\n",
    "        else:\n",
    "            raise ValueError('UTR found inside coding regions')\n",
    "    #print(ls_ovl_indexes[del_indexes])\n",
    "    ls = np.delete(ls, np.array(ls_ovl_indexes)[del_indexes], 0)\n",
    "    #print(ls)\n",
    "    if with_indexes:\n",
    "        return ls, remain_indexes\n",
    "    else:\n",
    "        return ls\n",
    "\n",
    "def mid_exons_search(gencode_gene_data):\n",
    "    #keep true internal exons intact\n",
    "    tx_list = unique_unsorted_elements(gencode_gene_data.transcript_id)\n",
    "    mid_exons = np.empty([1,2], dtype=int)\n",
    "    for tx_id in tx_list:\n",
    "        if gencode_gene_data[(gencode_gene_data.transcript_id == tx_id) &\\\n",
    "                    (gencode_gene_data.feature == 'UTR')].shape[0] > 0.:\n",
    "            exon_list = gencode_gene_data[(gencode_gene_data.transcript_id == tx_id) &\\\n",
    "                        (gencode_gene_data.feature == 'exon')]\n",
    "            exon_list = np.array(exon_list[['start','end']])\n",
    "            exon_list = exon_list[np.argsort(exon_list, axis = 0)[:,0]]\n",
    "            \n",
    "            mid_exon_point = np.average([np.min(exon_list[:,0]), np.max(exon_list[:,1])]) # sure fall at middle of exon seq\n",
    "            UTR_list = gencode_gene_data[(gencode_gene_data.transcript_id == tx_id) &\\\n",
    "                    (gencode_gene_data.feature == 'UTR')]\n",
    "            UTR_list = np.array(UTR_list[['start','end']])\n",
    "            UTR_list = UTR_list[np.argsort(UTR_list, axis=0)[:,0]]\n",
    "            # classify 3' and 5' UTRs\n",
    "            UTRs_5_prime = UTR_list[UTR_list[:,0]<mid_exon_point]\n",
    "            UTRs_3_prime = UTR_list[UTR_list[:,1]> mid_exon_point]\n",
    "            if UTRs_5_prime.shape[0]==0:\n",
    "                UTRs_5_prime = np.array([[np.inf,np.inf]])\n",
    "            if UTRs_3_prime.shape[0] == 0:\n",
    "                UTRs_3_prime = np.array([[-np.inf,-np.inf]])\n",
    "\n",
    "            mid_exon_bounds = np.array([np.max(UTRs_5_prime[:,1]), np.min(UTRs_3_prime[:,0])])\n",
    "            mid_exons = np.append(mid_exons, exon_list[(exon_list[:,0]>mid_exon_bounds[0]) &\\\n",
    "                                                        (exon_list[:,1]<mid_exon_bounds[1])], axis = 0)\n",
    "    mid_exons = np.delete(mid_exons,0, axis=0)\n",
    "    mid_exons = merge_ranges(mid_exons)\n",
    "    return mid_exons\n",
    "            \n",
    "        \n",
    "        \n",
    "def non_matching_exon_UTRs_search(exons, UTRs, *args):\n",
    "    #NME for non matching exon\n",
    "    #take the coordinates of ending exons\n",
    "    exons = np.copy(exons)\n",
    "    UTRs = np.copy(UTRs)\n",
    "    gencode_gene_data = pd.DataFrame.copy(args[0])\n",
    "    \n",
    "    final_exon_ends = [exons[0,1], exons[-1,0]]\n",
    "    #print(final_exon_ends)\n",
    "    otm_UTRs = np.append(UTRs[(UTRs[:,1]<=final_exon_ends[0])], UTRs[(UTRs[:,0]>=final_exon_ends[1])],axis=0) #outermost UTRs\n",
    "    #print(otm_UTRs)\n",
    "    #print(otm_UTRs)\n",
    "    mid_UTRs = np.array([UTRs[i] for i in range(UTRs.shape[0]) if UTRs[i,0] not in otm_UTRs[:,0]])\n",
    "    mid_exons = mid_exons_search(gencode_gene_data) #args_0 for gencode_gene_data\n",
    "    if mid_UTRs.shape[0]>0:\n",
    "        UTR_ME_indexes, check = search_overlap_partners(mid_UTRs, mid_exons, return_indexes= True)\n",
    "        NME_UTRs = np.delete(mid_UTRs, UTR_ME_indexes, axis= 0)\n",
    "        NME_UTRs = np.append(otm_UTRs, NME_UTRs, axis = 0)\n",
    "        NME_UTRs = merge_ranges(NME_UTRs)\n",
    "    else:\n",
    "        NME_UTRs = otm_UTRs\n",
    "    #print(NME_UTRs)\n",
    "    return NME_UTRs\n",
    "    \n",
    "def info_per_gene(gencode_table, capture_list, gene_name):\n",
    "    gencode_table = pd.DataFrame.copy(gencode_table)\n",
    "    capture_list = pd.DataFrame.copy(capture_list)\n",
    "    temp_table = temporary_table()\n",
    "    #deal with individual gene\n",
    "    gencode_gene_data = gencode_table[gencode_table.gene_name ==gene_name]\n",
    "    chr_name = unique_unsorted_elements(gencode_gene_data.seqname)[0]\n",
    "    gene_id = unique_unsorted_elements(gencode_gene_data.gene_id)[0]\n",
    "    \n",
    "    #after hg38 capture exons are no longer overlapping\n",
    "    #prep capture_list\n",
    "    capture_chr_data = pd.DataFrame.copy(capture_list[capture_list[0]==chr_name])\n",
    "    capture_chr_data.sort_values(1, axis=0, inplace= True)\n",
    "    capture_chr_data = np.array(capture_chr_data[[1,2]])\n",
    "    \n",
    "    #bases (exons+UTRs)\n",
    "    gencode_bases_data = gencode_gene_data[(gencode_gene_data.feature=='exon') | (gencode_gene_data.feature=='UTR')]\n",
    "    gencode_bases_data = np.array(gencode_bases_data[['start','end']])\n",
    "    gencode_bases_data = gencode_bases_data[np.argsort(gencode_bases_data, axis = 0)[:,0]]\n",
    "    #merging bases:\n",
    "    gencode_bases_data = merge_ranges(gencode_bases_data)\n",
    "    \n",
    "    #exons (before removing UTRs)\n",
    "    gencode_exons_data = gencode_gene_data[(gencode_gene_data.feature=='exon')]\n",
    "    gencode_exons_data = np.array(gencode_exons_data[['start','end']])\n",
    "    gencode_exons_data = gencode_exons_data[np.argsort(gencode_exons_data, axis = 0)[:,0]]\n",
    "    gencode_exons_data = merge_ranges(gencode_exons_data)\n",
    "    \n",
    "    #non-exon-matching UTRs (NEM UTRs)\n",
    "    gencode_UTRs_data = gencode_gene_data[gencode_gene_data.feature == 'UTR']\n",
    "    if gencode_UTRs_data.shape[0]>0:\n",
    "        #detect ovl UTR\n",
    "        gencode_UTRs_data.sort_values(by = 'start', axis=0, inplace= True)\n",
    "        gencode_UTRs_data = np.array(gencode_UTRs_data[['start','end']])\n",
    "        gencode_UTRs_data = merge_ranges(gencode_UTRs_data)\n",
    "        gencode_NEM_UTRs_data = non_matching_exon_UTRs_search(gencode_exons_data, gencode_UTRs_data,\\\n",
    "                                                             gencode_gene_data) \n",
    "        \n",
    "        #remove UTRs that does have any matches with exons to get exons only\n",
    "\n",
    "        gencode_exons_data = remove_ranges(gencode_exons_data, gencode_NEM_UTRs_data)\n",
    "        #% non-exon-matching UTRs:\n",
    "        UTR_ranges_ovl, num_cap_ovl_UTRs, ranges_cap_ovl_UTR = search_overlap_partners(capture_chr_data,\\\n",
    "                                                                                       gencode_NEM_UTRs_data)\n",
    "        total_UTR_bases = np.sum(gencode_NEM_UTRs_data[:,1] -gencode_NEM_UTRs_data[:,0] +1)\n",
    "        total_UTR_ovl_bases = np.sum(UTR_ranges_ovl)\n",
    "        percent_UTR_bases_ovl = total_UTR_ovl_bases/total_UTR_bases\n",
    "    else:\n",
    "        percent_UTR_bases_ovl = np.nan\n",
    "    \n",
    "    # % bases ovl:\n",
    "    bases_ranges_ovl, num_cap_ovl_bases, ranges_cap_ovl_bases = search_overlap_partners(capture_chr_data, gencode_bases_data)\n",
    "    total_GC_bases = np.sum(gencode_bases_data[:,1]- gencode_bases_data[:,0] +1) #not only those ovl\n",
    "    total_GC_ovl_bases = np.sum(bases_ranges_ovl)\n",
    "    \n",
    "    # % exons ovl:\n",
    "    exons_ranges_ovl, num_cap_ovl_exons, ranges_cap_ovl_exons = search_overlap_partners(capture_chr_data, gencode_exons_data)\n",
    "    total_GC_exons = np.sum(gencode_exons_data[:,1]- gencode_exons_data[:,0] +1) #not only those ovl\n",
    "    total_GC_ovl_exons = np.sum(exons_ranges_ovl)\n",
    "    temp_table['gene_name'] = [gene_name]\n",
    "    temp_table['gene_id'] = [gene_id]\n",
    "    temp_table['#TX'] = [gencode_gene_data[gencode_gene_data.feature == 'transcript'].shape[0]]\n",
    "    temp_table['#GC_exons'] = [gencode_exons_data.shape[0]]\n",
    "    temp_table['#GC_bases'] = [total_GC_bases]\n",
    "    temp_table['#CAP_exons'] = [num_cap_ovl_bases]\n",
    "    temp_table['%UTR_bases_ovl'] = [percent_UTR_bases_ovl]\n",
    "    temp_table['#CAP_bases'] = [np.sum(ranges_cap_ovl_exons)]\n",
    "    temp_table['%bases_ovl'] = [total_GC_ovl_bases/total_GC_bases]\n",
    "    temp_table['%exon_bases_ovl'] = [total_GC_ovl_exons/total_GC_exons]\n",
    "    temp_table['%UTR_bases_ovl'] = percent_UTR_bases_ovl\n",
    "    return temp_table\n",
    "    \n",
    "    "
   ]
  },
  {
   "cell_type": "code",
   "execution_count": 23,
   "metadata": {},
   "outputs": [
    {
     "data": {
      "text/html": [
       "<div>\n",
       "<style scoped>\n",
       "    .dataframe tbody tr th:only-of-type {\n",
       "        vertical-align: middle;\n",
       "    }\n",
       "\n",
       "    .dataframe tbody tr th {\n",
       "        vertical-align: top;\n",
       "    }\n",
       "\n",
       "    .dataframe thead tr th {\n",
       "        text-align: left;\n",
       "    }\n",
       "</style>\n",
       "<table border=\"1\" class=\"dataframe\">\n",
       "  <thead>\n",
       "    <tr>\n",
       "      <th></th>\n",
       "      <th>gene_name</th>\n",
       "      <th>gene_id</th>\n",
       "      <th>#TX</th>\n",
       "      <th>#CAP_exons</th>\n",
       "      <th>#CAP_bases</th>\n",
       "      <th>#GC_exons</th>\n",
       "      <th>#GC_bases</th>\n",
       "      <th>%bases_ovl</th>\n",
       "      <th>%UTR_bases_ovl</th>\n",
       "      <th>%exon_bases_ovl</th>\n",
       "    </tr>\n",
       "  </thead>\n",
       "  <tbody>\n",
       "    <tr>\n",
       "      <th>0</th>\n",
       "      <td>AMER1</td>\n",
       "      <td>ENSG00000184675.8</td>\n",
       "      <td>2</td>\n",
       "      <td>2</td>\n",
       "      <td>3511</td>\n",
       "      <td>1</td>\n",
       "      <td>8443</td>\n",
       "      <td>0.011963</td>\n",
       "      <td>0.030171</td>\n",
       "      <td>1.0</td>\n",
       "    </tr>\n",
       "  </tbody>\n",
       "</table>\n",
       "</div>"
      ],
      "text/plain": [
       "  gene_name            gene_id #TX #CAP_exons #CAP_bases #GC_exons #GC_bases  \\\n",
       "0     AMER1  ENSG00000184675.8   2          2       3511         1      8443   \n",
       "\n",
       "  %bases_ovl %UTR_bases_ovl %exon_bases_ovl  \n",
       "0   0.011963       0.030171             1.0  "
      ]
     },
     "execution_count": 23,
     "metadata": {},
     "output_type": "execute_result"
    }
   ],
   "source": [
    "gene_name ='AMER1'\n",
    "info_per_gene(gencode_protein_coding_gene, capture_data, gene_name = gene_name)"
   ]
  },
  {
   "cell_type": "code",
   "execution_count": 77,
   "metadata": {},
   "outputs": [
    {
     "name": "stderr",
     "output_type": "stream",
     "text": [
      "100%|██████████| 3/3 [00:34<00:00, 11.82s/it]\n"
     ]
    }
   ],
   "source": [
    "#multiprocessing:\n",
    "complete_gene_info = pd.DataFrame(columns=[['gene_name','gene_id','#TX','#CAP_exons','#CAP_bases',\\\n",
    "                                            '#GC_exons','#GC_bases','%bases_ovl','%UTR_bases_ovl','%exon_bases_ovl']])\n",
    "temp_gene_info = pd.DataFrame.copy(complete_gene_info) #temporary table used for updating\n",
    "gene_func_inputs = {'gencode_table':gencode_protein_coding_gene, \\\n",
    "                    'capture_list': capture_data, 'gene_name':gene_collection}\n",
    "def multi_gene_func(niter, **kwargs):\n",
    "    #print(kwargs['gene_name'])\n",
    "    kwargs['gene_name'] = kwargs['gene_name'][niter]\n",
    "    time.sleep(1)\n",
    "    return info_per_gene(**kwargs)\n",
    "mapfunc = partial(multi_gene_func,**gene_func_inputs)\n",
    "#pool = multiprocessing.Pool(5)\n",
    "#pool = multiprocessing.pool.ThreadPool(4)\n",
    "#outputs = []\n",
    "\n",
    "with multiprocessing.Pool(3) as p:\n",
    "      outputs = list(tqdm(p.imap(mapfunc, range(3)), total=3))\n",
    "#outputs = pool.map(mapfunc, range(len(gene_collection[:100])))\n",
    "complete_gene_info = pd.concat(outputs)\n",
    "complete_gene_info.reset_index(drop = True, inplace= True)\n",
    "\n",
    "#This step finished on terminal python"
   ]
  },
  {
   "cell_type": "code",
   "execution_count": null,
   "metadata": {},
   "outputs": [],
   "source": [
    "#complete_gene_info = pd.concat([complete_gene_info, temp_gene_info])\n",
    "complete_gene_info.reset_index(drop = True, inplace= True)"
   ]
  },
  {
   "cell_type": "code",
   "execution_count": 20,
   "metadata": {},
   "outputs": [
    {
     "data": {
      "text/plain": [
       "(19712, 10)"
      ]
     },
     "execution_count": 20,
     "metadata": {},
     "output_type": "execute_result"
    }
   ],
   "source": [
    "complete_gene_info = pd.read_csv('complete_genome_data.txt', sep =\"\\t\")\n",
    "complete_gene_info.shape"
   ]
  },
  {
   "cell_type": "code",
   "execution_count": 21,
   "metadata": {},
   "outputs": [
    {
     "data": {
      "text/html": [
       "<div>\n",
       "<style scoped>\n",
       "    .dataframe tbody tr th:only-of-type {\n",
       "        vertical-align: middle;\n",
       "    }\n",
       "\n",
       "    .dataframe tbody tr th {\n",
       "        vertical-align: top;\n",
       "    }\n",
       "\n",
       "    .dataframe thead th {\n",
       "        text-align: right;\n",
       "    }\n",
       "</style>\n",
       "<table border=\"1\" class=\"dataframe\">\n",
       "  <thead>\n",
       "    <tr style=\"text-align: right;\">\n",
       "      <th></th>\n",
       "      <th>gene_name</th>\n",
       "      <th>gene_id</th>\n",
       "      <th>#TX</th>\n",
       "      <th>#CAP_exons</th>\n",
       "      <th>#CAP_bases</th>\n",
       "      <th>#GC_exons</th>\n",
       "      <th>#GC_bases</th>\n",
       "      <th>%bases_ovl</th>\n",
       "      <th>%UTR_bases_ovl</th>\n",
       "      <th>%exon_bases_ovl</th>\n",
       "    </tr>\n",
       "  </thead>\n",
       "  <tbody>\n",
       "    <tr>\n",
       "      <th>0</th>\n",
       "      <td>OR4F5</td>\n",
       "      <td>ENSG00000186092.4</td>\n",
       "      <td>1</td>\n",
       "      <td>1</td>\n",
       "      <td>941</td>\n",
       "      <td>1</td>\n",
       "      <td>918</td>\n",
       "      <td>1.0</td>\n",
       "      <td>1.0</td>\n",
       "      <td>1.0</td>\n",
       "    </tr>\n",
       "    <tr>\n",
       "      <th>1</th>\n",
       "      <td>FO538757.3</td>\n",
       "      <td>ENSG00000279928.1</td>\n",
       "      <td>1</td>\n",
       "      <td>0</td>\n",
       "      <td>0</td>\n",
       "      <td>3</td>\n",
       "      <td>718</td>\n",
       "      <td>0.0</td>\n",
       "      <td>0.0</td>\n",
       "      <td>0.0</td>\n",
       "    </tr>\n",
       "    <tr>\n",
       "      <th>2</th>\n",
       "      <td>FO538757.2</td>\n",
       "      <td>ENSG00000279457.2</td>\n",
       "      <td>3</td>\n",
       "      <td>0</td>\n",
       "      <td>0</td>\n",
       "      <td>14</td>\n",
       "      <td>1982</td>\n",
       "      <td>0.0</td>\n",
       "      <td>0.0</td>\n",
       "      <td>0.0</td>\n",
       "    </tr>\n",
       "    <tr>\n",
       "      <th>3</th>\n",
       "      <td>OR4F29</td>\n",
       "      <td>ENSG00000278566.1</td>\n",
       "      <td>1</td>\n",
       "      <td>1</td>\n",
       "      <td>961</td>\n",
       "      <td>1</td>\n",
       "      <td>939</td>\n",
       "      <td>1.0</td>\n",
       "      <td>1.0</td>\n",
       "      <td>1.0</td>\n",
       "    </tr>\n",
       "    <tr>\n",
       "      <th>4</th>\n",
       "      <td>OR4F16</td>\n",
       "      <td>ENSG00000273547.1</td>\n",
       "      <td>1</td>\n",
       "      <td>1</td>\n",
       "      <td>951</td>\n",
       "      <td>1</td>\n",
       "      <td>939</td>\n",
       "      <td>1.0</td>\n",
       "      <td>1.0</td>\n",
       "      <td>1.0</td>\n",
       "    </tr>\n",
       "  </tbody>\n",
       "</table>\n",
       "</div>"
      ],
      "text/plain": [
       "    gene_name            gene_id  #TX  #CAP_exons  #CAP_bases  #GC_exons  \\\n",
       "0       OR4F5  ENSG00000186092.4    1           1         941          1   \n",
       "1  FO538757.3  ENSG00000279928.1    1           0           0          3   \n",
       "2  FO538757.2  ENSG00000279457.2    3           0           0         14   \n",
       "3      OR4F29  ENSG00000278566.1    1           1         961          1   \n",
       "4      OR4F16  ENSG00000273547.1    1           1         951          1   \n",
       "\n",
       "   #GC_bases  %bases_ovl  %UTR_bases_ovl  %exon_bases_ovl  \n",
       "0        918         1.0             1.0              1.0  \n",
       "1        718         0.0             0.0              0.0  \n",
       "2       1982         0.0             0.0              0.0  \n",
       "3        939         1.0             1.0              1.0  \n",
       "4        939         1.0             1.0              1.0  "
      ]
     },
     "execution_count": 21,
     "metadata": {},
     "output_type": "execute_result"
    }
   ],
   "source": [
    "complete_gene_info.head()"
   ]
  },
  {
   "cell_type": "code",
   "execution_count": 27,
   "metadata": {},
   "outputs": [
    {
     "data": {
      "text/plain": [
       "<matplotlib.axes._subplots.AxesSubplot at 0x1a6bbab0f0>"
      ]
     },
     "execution_count": 27,
     "metadata": {},
     "output_type": "execute_result"
    },
    {
     "data": {
      "image/png": "[encoded data removed]",
      "text/plain": [
       "<Figure size 432x288 with 1 Axes>"
      ]
     },
     "metadata": {},
     "output_type": "display_data"
    }
   ],
   "source": [
    "sns.set(style=\"dark\", color_codes=True, font_scale=1.5)\n",
    "sns.distplot(complete_gene_info['%exon_bases_ovl'].dropna(), hist=True, kde=False, color = 'blue',\\\n",
    "             hist_kws={'edgecolor':'black'}, norm_hist= False, axlabel='% exon bases overlap')\n"
   ]
  },
  {
   "cell_type": "markdown",
   "metadata": {},
   "source": [
    "remove 2-end exon portions/ exons that are UTR"
   ]
  },
  {
   "cell_type": "code",
   "execution_count": 293,
   "metadata": {},
   "outputs": [],
   "source": [
    "#gencode_protein_coding_gene_rm_UTRexons.loc[55].seqname.fill('chrDMM')\n",
    "gencode_protein_coding_gene_rm_UTRexons.loc[55]=\\\n",
    "gencode_protein_coding_gene_rm_UTRexons.loc[55].replace('chr1','chrDMM')"
   ]
  },
  {
   "cell_type": "code",
   "execution_count": 31,
   "metadata": {},
   "outputs": [],
   "source": [
    "#make tracker for testing genes\n",
    "gencode_protein_coding_gene[(gencode_protein_coding_gene.gene_name=='EPAS1')\\\n",
    "                            & (gencode_protein_coding_gene.feature=='exon')]\\\n",
    "[['seqname', 'start', 'end']].to_csv('sample_EPAS1_exon_track.txt', index=None, sep='\\t', header = None)"
   ]
  },
  {
   "cell_type": "code",
   "execution_count": 155,
   "metadata": {},
   "outputs": [],
   "source": [
    "complete_gene_info.to_csv('complete_genome_data.txt', index=None, sep='\\t')"
   ]
  },
  {
   "cell_type": "code",
   "execution_count": null,
   "metadata": {},
   "outputs": [],
   "source": []
  }
 ],
 "metadata": {
  "kernelspec": {
   "display_name": "Python 3",
   "language": "python",
   "name": "python3"
  },
  "language_info": {
   "codemirror_mode": {
    "name": "ipython",
    "version": 3
   },
   "file_extension": ".py",
   "mimetype": "text/x-python",
   "name": "python",
   "nbconvert_exporter": "python",
   "pygments_lexer": "ipython3",
   "version": "3.7.3"
  }
 },
 "nbformat": 4,
 "nbformat_minor": 2
}
